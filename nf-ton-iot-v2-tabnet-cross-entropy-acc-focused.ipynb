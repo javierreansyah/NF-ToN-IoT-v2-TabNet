{
 "cells": [
  {
   "cell_type": "code",
   "execution_count": 1,
   "id": "d7f23995",
   "metadata": {
    "execution": {
     "iopub.execute_input": "2024-12-15T18:22:48.908018Z",
     "iopub.status.busy": "2024-12-15T18:22:48.907752Z",
     "iopub.status.idle": "2024-12-15T18:22:58.491981Z",
     "shell.execute_reply": "2024-12-15T18:22:58.490975Z"
    },
    "papermill": {
     "duration": 9.589467,
     "end_time": "2024-12-15T18:22:58.494055",
     "exception": false,
     "start_time": "2024-12-15T18:22:48.904588",
     "status": "completed"
    },
    "tags": []
   },
   "outputs": [
    {
     "name": "stdout",
     "output_type": "stream",
     "text": [
      "Collecting pytorch-tabnet\r\n",
      "  Downloading pytorch_tabnet-4.1.0-py3-none-any.whl.metadata (15 kB)\r\n",
      "Requirement already satisfied: numpy>=1.17 in /opt/conda/lib/python3.10/site-packages (from pytorch-tabnet) (1.26.4)\r\n",
      "Requirement already satisfied: scikit_learn>0.21 in /opt/conda/lib/python3.10/site-packages (from pytorch-tabnet) (1.2.2)\r\n",
      "Requirement already satisfied: scipy>1.4 in /opt/conda/lib/python3.10/site-packages (from pytorch-tabnet) (1.14.1)\r\n",
      "Requirement already satisfied: torch>=1.3 in /opt/conda/lib/python3.10/site-packages (from pytorch-tabnet) (2.4.0)\r\n",
      "Requirement already satisfied: tqdm>=4.36 in /opt/conda/lib/python3.10/site-packages (from pytorch-tabnet) (4.66.4)\r\n",
      "Requirement already satisfied: joblib>=1.1.1 in /opt/conda/lib/python3.10/site-packages (from scikit_learn>0.21->pytorch-tabnet) (1.4.2)\r\n",
      "Requirement already satisfied: threadpoolctl>=2.0.0 in /opt/conda/lib/python3.10/site-packages (from scikit_learn>0.21->pytorch-tabnet) (3.5.0)\r\n",
      "Requirement already satisfied: filelock in /opt/conda/lib/python3.10/site-packages (from torch>=1.3->pytorch-tabnet) (3.15.1)\r\n",
      "Requirement already satisfied: typing-extensions>=4.8.0 in /opt/conda/lib/python3.10/site-packages (from torch>=1.3->pytorch-tabnet) (4.12.2)\r\n",
      "Requirement already satisfied: sympy in /opt/conda/lib/python3.10/site-packages (from torch>=1.3->pytorch-tabnet) (1.13.3)\r\n",
      "Requirement already satisfied: networkx in /opt/conda/lib/python3.10/site-packages (from torch>=1.3->pytorch-tabnet) (3.3)\r\n",
      "Requirement already satisfied: jinja2 in /opt/conda/lib/python3.10/site-packages (from torch>=1.3->pytorch-tabnet) (3.1.4)\r\n",
      "Requirement already satisfied: fsspec in /opt/conda/lib/python3.10/site-packages (from torch>=1.3->pytorch-tabnet) (2024.6.0)\r\n",
      "Requirement already satisfied: MarkupSafe>=2.0 in /opt/conda/lib/python3.10/site-packages (from jinja2->torch>=1.3->pytorch-tabnet) (2.1.5)\r\n",
      "Requirement already satisfied: mpmath<1.4,>=1.1.0 in /opt/conda/lib/python3.10/site-packages (from sympy->torch>=1.3->pytorch-tabnet) (1.3.0)\r\n",
      "Downloading pytorch_tabnet-4.1.0-py3-none-any.whl (44 kB)\r\n",
      "\u001b[2K   \u001b[90m━━━━━━━━━━━━━━━━━━━━━━━━━━━━━━━━━━━━━━━━\u001b[0m \u001b[32m44.5/44.5 kB\u001b[0m \u001b[31m1.3 MB/s\u001b[0m eta \u001b[36m0:00:00\u001b[0m\r\n",
      "\u001b[?25hInstalling collected packages: pytorch-tabnet\r\n",
      "Successfully installed pytorch-tabnet-4.1.0\r\n"
     ]
    }
   ],
   "source": [
    "!pip install pytorch-tabnet"
   ]
  },
  {
   "cell_type": "code",
   "execution_count": 2,
   "id": "99368c89",
   "metadata": {
    "execution": {
     "iopub.execute_input": "2024-12-15T18:22:58.500435Z",
     "iopub.status.busy": "2024-12-15T18:22:58.500120Z",
     "iopub.status.idle": "2024-12-15T18:23:03.321572Z",
     "shell.execute_reply": "2024-12-15T18:23:03.320859Z"
    },
    "papermill": {
     "duration": 4.826692,
     "end_time": "2024-12-15T18:23:03.323458",
     "exception": false,
     "start_time": "2024-12-15T18:22:58.496766",
     "status": "completed"
    },
    "tags": []
   },
   "outputs": [],
   "source": [
    "import os\n",
    "import glob\n",
    "import torch\n",
    "from torch.utils.data import Dataset\n",
    "import pandas as pd\n",
    "from pytorch_tabnet.tab_model import TabNetClassifier\n",
    "from sklearn.metrics import accuracy_score, f1_score"
   ]
  },
  {
   "cell_type": "code",
   "execution_count": 3,
   "id": "fa3c9f22",
   "metadata": {
    "execution": {
     "iopub.execute_input": "2024-12-15T18:23:03.329757Z",
     "iopub.status.busy": "2024-12-15T18:23:03.329079Z",
     "iopub.status.idle": "2024-12-15T18:23:03.335300Z",
     "shell.execute_reply": "2024-12-15T18:23:03.334618Z"
    },
    "papermill": {
     "duration": 0.010852,
     "end_time": "2024-12-15T18:23:03.336788",
     "exception": false,
     "start_time": "2024-12-15T18:23:03.325936",
     "status": "completed"
    },
    "tags": []
   },
   "outputs": [],
   "source": [
    "class RowwiseDataset(Dataset):\n",
    "    def __init__(self, X_folder, y_attack_folder):\n",
    "        self.X_data = pd.concat(\n",
    "            [pd.read_parquet(f) for f in sorted(glob.glob(os.path.join(X_folder, \"*.parquet\")))]\n",
    "        ).values\n",
    "        self.y_attack_data = pd.concat(\n",
    "            [pd.read_parquet(f)[\"Attack\"] for f in sorted(glob.glob(os.path.join(y_attack_folder, \"*.parquet\")))]\n",
    "        ).values\n",
    "        assert len(self.X_data) == len(self.y_attack_data), \\\n",
    "            \"Mismatched row counts between features and labels.\"\n",
    "        assert self.y_attack_data.ndim == 1, \"Target data should be 1D after column selection.\"\n",
    "\n",
    "    def __len__(self):\n",
    "        return len(self.X_data)\n",
    "\n",
    "    def __getitem__(self, idx):\n",
    "        return (\n",
    "            torch.tensor(self.X_data[idx], dtype=torch.float32),\n",
    "            torch.tensor(self.y_attack_data[idx], dtype=torch.float32),\n",
    "        )"
   ]
  },
  {
   "cell_type": "code",
   "execution_count": 4,
   "id": "cebb2ca1",
   "metadata": {
    "execution": {
     "iopub.execute_input": "2024-12-15T18:23:03.342487Z",
     "iopub.status.busy": "2024-12-15T18:23:03.341948Z",
     "iopub.status.idle": "2024-12-15T18:23:03.345875Z",
     "shell.execute_reply": "2024-12-15T18:23:03.345212Z"
    },
    "papermill": {
     "duration": 0.008386,
     "end_time": "2024-12-15T18:23:03.347415",
     "exception": false,
     "start_time": "2024-12-15T18:23:03.339029",
     "status": "completed"
    },
    "tags": []
   },
   "outputs": [],
   "source": [
    "X_train_folder = \"/kaggle/input/nf-ton-iot-v2-cleaned-split/rmv_outlier_std_801010/X_train\"\n",
    "y_train_attack_folder = \"/kaggle/input/nf-ton-iot-v2-cleaned-split/rmv_outlier_std_801010/y_train_attack\"\n",
    "\n",
    "X_valid_folder = \"/kaggle/input/nf-ton-iot-v2-cleaned-split/rmv_outlier_std_801010/X_valid\"\n",
    "y_valid_attack_folder = \"/kaggle/input/nf-ton-iot-v2-cleaned-split/rmv_outlier_std_801010/y_valid_attack\"\n",
    "\n",
    "X_test_folder = \"/kaggle/input/nf-ton-iot-v2-cleaned-split/rmv_outlier_std_801010/X_test\"\n",
    "y_test_attack_folder = \"/kaggle/input/nf-ton-iot-v2-cleaned-split/rmv_outlier_std_801010/y_test_attack\""
   ]
  },
  {
   "cell_type": "code",
   "execution_count": 5,
   "id": "bd1b6a4e",
   "metadata": {
    "execution": {
     "iopub.execute_input": "2024-12-15T18:23:03.352671Z",
     "iopub.status.busy": "2024-12-15T18:23:03.352438Z",
     "iopub.status.idle": "2024-12-15T18:23:13.834679Z",
     "shell.execute_reply": "2024-12-15T18:23:13.832921Z"
    },
    "papermill": {
     "duration": 10.48832,
     "end_time": "2024-12-15T18:23:13.837925",
     "exception": false,
     "start_time": "2024-12-15T18:23:03.349605",
     "status": "completed"
    },
    "tags": []
   },
   "outputs": [],
   "source": [
    "train_dataset = RowwiseDataset(X_train_folder, y_train_attack_folder)\n",
    "valid_dataset = RowwiseDataset(X_valid_folder, y_valid_attack_folder)\n",
    "test_dataset = RowwiseDataset(X_test_folder, y_test_attack_folder)\n",
    "\n",
    "X_train, y_train_attack = train_dataset.X_data, train_dataset.y_attack_data\n",
    "X_valid, y_valid_attack = valid_dataset.X_data, valid_dataset.y_attack_data\n",
    "X_test, y_test_attack = test_dataset.X_data, test_dataset.y_attack_data\n",
    "\n",
    "y_train = y_train_attack\n",
    "y_valid = y_valid_attack\n",
    "y_test = y_test_attack"
   ]
  },
  {
   "cell_type": "code",
   "execution_count": 6,
   "id": "d23ce8f0",
   "metadata": {
    "execution": {
     "iopub.execute_input": "2024-12-15T18:23:13.848679Z",
     "iopub.status.busy": "2024-12-15T18:23:13.848287Z",
     "iopub.status.idle": "2024-12-15T18:23:13.854598Z",
     "shell.execute_reply": "2024-12-15T18:23:13.853467Z"
    },
    "papermill": {
     "duration": 0.013983,
     "end_time": "2024-12-15T18:23:13.856942",
     "exception": false,
     "start_time": "2024-12-15T18:23:13.842959",
     "status": "completed"
    },
    "tags": []
   },
   "outputs": [
    {
     "name": "stdout",
     "output_type": "stream",
     "text": [
      "X_train shape: (10025308, 48), y_train shape: (10025308,)\n",
      "X_valid shape: (1430469, 48), y_valid shape: (1430469,)\n",
      "X_test shape: (1270467, 48), y_test shape: (1270467,)\n"
     ]
    }
   ],
   "source": [
    "print(f\"X_train shape: {X_train.shape}, y_train shape: {y_train.shape}\")\n",
    "print(f\"X_valid shape: {X_valid.shape}, y_valid shape: {y_valid.shape}\")\n",
    "print(f\"X_test shape: {X_test.shape}, y_test shape: {y_test.shape}\")"
   ]
  },
  {
   "cell_type": "code",
   "execution_count": 7,
   "id": "1eff55e2",
   "metadata": {
    "execution": {
     "iopub.execute_input": "2024-12-15T18:23:13.864908Z",
     "iopub.status.busy": "2024-12-15T18:23:13.864658Z",
     "iopub.status.idle": "2024-12-16T04:46:44.435629Z",
     "shell.execute_reply": "2024-12-16T04:46:44.434689Z"
    },
    "papermill": {
     "duration": 37410.57771,
     "end_time": "2024-12-16T04:46:44.437552",
     "exception": false,
     "start_time": "2024-12-15T18:23:13.859842",
     "status": "completed"
    },
    "tags": []
   },
   "outputs": [
    {
     "name": "stdout",
     "output_type": "stream",
     "text": [
      "Training TabNet with n_a=n_d=8\n"
     ]
    },
    {
     "name": "stderr",
     "output_type": "stream",
     "text": [
      "/opt/conda/lib/python3.10/site-packages/pytorch_tabnet/abstract_model.py:82: UserWarning: Device used : cuda\n",
      "  warnings.warn(f\"Device used : {self.device}\")\n"
     ]
    },
    {
     "name": "stdout",
     "output_type": "stream",
     "text": [
      "epoch 0  | loss: 0.18876 | val_0_balanced_accuracy: 0.54105 | val_0_accuracy: 0.75632 |  0:02:05s\n",
      "epoch 1  | loss: 0.08314 | val_0_balanced_accuracy: 0.58908 | val_0_accuracy: 0.86161 |  0:04:10s\n",
      "epoch 2  | loss: 0.07321 | val_0_balanced_accuracy: 0.61607 | val_0_accuracy: 0.96271 |  0:06:16s\n",
      "epoch 3  | loss: 0.07068 | val_0_balanced_accuracy: 0.5921  | val_0_accuracy: 0.95037 |  0:08:22s\n",
      "epoch 4  | loss: 0.06789 | val_0_balanced_accuracy: 0.60933 | val_0_accuracy: 0.95981 |  0:10:27s\n",
      "epoch 5  | loss: 0.06528 | val_0_balanced_accuracy: 0.63169 | val_0_accuracy: 0.97109 |  0:12:34s\n",
      "epoch 6  | loss: 0.06357 | val_0_balanced_accuracy: 0.59452 | val_0_accuracy: 0.79038 |  0:14:40s\n",
      "epoch 7  | loss: 0.06735 | val_0_balanced_accuracy: 0.62949 | val_0_accuracy: 0.96929 |  0:16:46s\n",
      "epoch 8  | loss: 0.06071 | val_0_balanced_accuracy: 0.60749 | val_0_accuracy: 0.97091 |  0:18:51s\n",
      "epoch 9  | loss: 0.0564  | val_0_balanced_accuracy: 0.61406 | val_0_accuracy: 0.97433 |  0:20:56s\n",
      "epoch 10 | loss: 0.06023 | val_0_balanced_accuracy: 0.62992 | val_0_accuracy: 0.96877 |  0:23:01s\n",
      "epoch 11 | loss: 0.05845 | val_0_balanced_accuracy: 0.6378  | val_0_accuracy: 0.97538 |  0:25:08s\n",
      "epoch 12 | loss: 0.05202 | val_0_balanced_accuracy: 0.63699 | val_0_accuracy: 0.97753 |  0:27:13s\n",
      "epoch 13 | loss: 0.05005 | val_0_balanced_accuracy: 0.6137  | val_0_accuracy: 0.9748  |  0:29:19s\n",
      "epoch 14 | loss: 0.04899 | val_0_balanced_accuracy: 0.62132 | val_0_accuracy: 0.97563 |  0:31:24s\n",
      "epoch 15 | loss: 0.04858 | val_0_balanced_accuracy: 0.6173  | val_0_accuracy: 0.9716  |  0:33:29s\n",
      "epoch 16 | loss: 0.0492  | val_0_balanced_accuracy: 0.67659 | val_0_accuracy: 0.98213 |  0:35:35s\n",
      "epoch 17 | loss: 0.04788 | val_0_balanced_accuracy: 0.66355 | val_0_accuracy: 0.96983 |  0:37:41s\n",
      "epoch 18 | loss: 0.04744 | val_0_balanced_accuracy: 0.68736 | val_0_accuracy: 0.9765  |  0:39:47s\n",
      "epoch 19 | loss: 0.04704 | val_0_balanced_accuracy: 0.67505 | val_0_accuracy: 0.97074 |  0:41:53s\n",
      "epoch 20 | loss: 0.04739 | val_0_balanced_accuracy: 0.66462 | val_0_accuracy: 0.97448 |  0:43:58s\n",
      "epoch 21 | loss: 0.04822 | val_0_balanced_accuracy: 0.66418 | val_0_accuracy: 0.97541 |  0:46:03s\n",
      "epoch 22 | loss: 0.04671 | val_0_balanced_accuracy: 0.70506 | val_0_accuracy: 0.98115 |  0:48:09s\n",
      "epoch 23 | loss: 0.04466 | val_0_balanced_accuracy: 0.68646 | val_0_accuracy: 0.97194 |  0:50:15s\n",
      "epoch 24 | loss: 0.04469 | val_0_balanced_accuracy: 0.71512 | val_0_accuracy: 0.98024 |  0:52:20s\n",
      "epoch 25 | loss: 0.04453 | val_0_balanced_accuracy: 0.69072 | val_0_accuracy: 0.97129 |  0:54:26s\n",
      "epoch 26 | loss: 0.04452 | val_0_balanced_accuracy: 0.6885  | val_0_accuracy: 0.97587 |  0:56:31s\n",
      "epoch 27 | loss: 0.04447 | val_0_balanced_accuracy: 0.69302 | val_0_accuracy: 0.97356 |  0:58:36s\n",
      "epoch 28 | loss: 0.04447 | val_0_balanced_accuracy: 0.69779 | val_0_accuracy: 0.97817 |  1:00:42s\n",
      "epoch 29 | loss: 0.04422 | val_0_balanced_accuracy: 0.68776 | val_0_accuracy: 0.97303 |  1:02:48s\n",
      "epoch 30 | loss: 0.04427 | val_0_balanced_accuracy: 0.69916 | val_0_accuracy: 0.97327 |  1:04:54s\n",
      "epoch 31 | loss: 0.04404 | val_0_balanced_accuracy: 0.67793 | val_0_accuracy: 0.97081 |  1:06:59s\n",
      "epoch 32 | loss: 0.04407 | val_0_balanced_accuracy: 0.66944 | val_0_accuracy: 0.96883 |  1:09:05s\n",
      "epoch 33 | loss: 0.04394 | val_0_balanced_accuracy: 0.68034 | val_0_accuracy: 0.97255 |  1:11:11s\n",
      "epoch 34 | loss: 0.04267 | val_0_balanced_accuracy: 0.67552 | val_0_accuracy: 0.96938 |  1:13:17s\n",
      "epoch 35 | loss: 0.04273 | val_0_balanced_accuracy: 0.68206 | val_0_accuracy: 0.97093 |  1:15:22s\n",
      "epoch 36 | loss: 0.04258 | val_0_balanced_accuracy: 0.67459 | val_0_accuracy: 0.96805 |  1:17:27s\n",
      "epoch 37 | loss: 0.04264 | val_0_balanced_accuracy: 0.68931 | val_0_accuracy: 0.97056 |  1:19:32s\n",
      "epoch 38 | loss: 0.04251 | val_0_balanced_accuracy: 0.68737 | val_0_accuracy: 0.97069 |  1:21:37s\n",
      "epoch 39 | loss: 0.04253 | val_0_balanced_accuracy: 0.68474 | val_0_accuracy: 0.96875 |  1:23:41s\n",
      "epoch 40 | loss: 0.04258 | val_0_balanced_accuracy: 0.69304 | val_0_accuracy: 0.97065 |  1:25:46s\n",
      "epoch 41 | loss: 0.04255 | val_0_balanced_accuracy: 0.6802  | val_0_accuracy: 0.96343 |  1:27:50s\n",
      "epoch 42 | loss: 0.0424  | val_0_balanced_accuracy: 0.66124 | val_0_accuracy: 0.96743 |  1:29:55s\n",
      "epoch 43 | loss: 0.04235 | val_0_balanced_accuracy: 0.68504 | val_0_accuracy: 0.96641 |  1:32:01s\n",
      "epoch 44 | loss: 0.04233 | val_0_balanced_accuracy: 0.68418 | val_0_accuracy: 0.96838 |  1:34:07s\n",
      "epoch 45 | loss: 0.04165 | val_0_balanced_accuracy: 0.68302 | val_0_accuracy: 0.9647  |  1:36:11s\n",
      "epoch 46 | loss: 0.04158 | val_0_balanced_accuracy: 0.67734 | val_0_accuracy: 0.96463 |  1:38:14s\n",
      "\n",
      "Early stopping occurred at epoch 46 with best_epoch = 16 and best_val_0_accuracy = 0.98213\n",
      "Successfully saved model at cross_entropy_acc_focused_tabnet_model_size_8.zip.zip\n"
     ]
    },
    {
     "name": "stderr",
     "output_type": "stream",
     "text": [
      "/opt/conda/lib/python3.10/site-packages/pytorch_tabnet/callbacks.py:172: UserWarning: Best weights from best epoch are automatically used!\n",
      "  warnings.warn(wrn_msg)\n"
     ]
    },
    {
     "name": "stdout",
     "output_type": "stream",
     "text": [
      "Training TabNet with n_a=n_d=16\n"
     ]
    },
    {
     "name": "stderr",
     "output_type": "stream",
     "text": [
      "/opt/conda/lib/python3.10/site-packages/pytorch_tabnet/abstract_model.py:82: UserWarning: Device used : cuda\n",
      "  warnings.warn(f\"Device used : {self.device}\")\n"
     ]
    },
    {
     "name": "stdout",
     "output_type": "stream",
     "text": [
      "epoch 0  | loss: 0.15348 | val_0_balanced_accuracy: 0.62038 | val_0_accuracy: 0.94584 |  0:02:03s\n",
      "epoch 1  | loss: 0.07552 | val_0_balanced_accuracy: 0.63278 | val_0_accuracy: 0.9493  |  0:04:05s\n",
      "epoch 2  | loss: 0.06808 | val_0_balanced_accuracy: 0.61425 | val_0_accuracy: 0.95449 |  0:06:08s\n",
      "epoch 3  | loss: 0.06568 | val_0_balanced_accuracy: 0.56645 | val_0_accuracy: 0.67601 |  0:08:12s\n",
      "epoch 4  | loss: 0.06106 | val_0_balanced_accuracy: 0.57501 | val_0_accuracy: 0.7324  |  0:10:16s\n",
      "epoch 5  | loss: 0.05755 | val_0_balanced_accuracy: 0.64505 | val_0_accuracy: 0.95963 |  0:12:20s\n",
      "epoch 6  | loss: 0.05584 | val_0_balanced_accuracy: 0.67143 | val_0_accuracy: 0.97787 |  0:14:24s\n",
      "epoch 7  | loss: 0.05437 | val_0_balanced_accuracy: 0.65763 | val_0_accuracy: 0.9094  |  0:16:27s\n",
      "epoch 8  | loss: 0.05444 | val_0_balanced_accuracy: 0.66658 | val_0_accuracy: 0.97071 |  0:18:29s\n",
      "epoch 9  | loss: 0.05587 | val_0_balanced_accuracy: 0.65199 | val_0_accuracy: 0.89103 |  0:20:32s\n",
      "epoch 10 | loss: 0.05292 | val_0_balanced_accuracy: 0.65084 | val_0_accuracy: 0.97263 |  0:22:34s\n",
      "epoch 11 | loss: 0.05294 | val_0_balanced_accuracy: 0.67363 | val_0_accuracy: 0.96577 |  0:24:37s\n",
      "epoch 12 | loss: 0.05257 | val_0_balanced_accuracy: 0.67561 | val_0_accuracy: 0.968   |  0:26:40s\n",
      "epoch 13 | loss: 0.05198 | val_0_balanced_accuracy: 0.6496  | val_0_accuracy: 0.92658 |  0:28:44s\n",
      "epoch 14 | loss: 0.05057 | val_0_balanced_accuracy: 0.66076 | val_0_accuracy: 0.97717 |  0:30:48s\n",
      "epoch 15 | loss: 0.04613 | val_0_balanced_accuracy: 0.69289 | val_0_accuracy: 0.97644 |  0:32:51s\n",
      "epoch 16 | loss: 0.04631 | val_0_balanced_accuracy: 0.68476 | val_0_accuracy: 0.96622 |  0:34:55s\n",
      "epoch 17 | loss: 0.04629 | val_0_balanced_accuracy: 0.68269 | val_0_accuracy: 0.97617 |  0:36:57s\n",
      "epoch 18 | loss: 0.04559 | val_0_balanced_accuracy: 0.6899  | val_0_accuracy: 0.97463 |  0:39:02s\n",
      "epoch 19 | loss: 0.04537 | val_0_balanced_accuracy: 0.69786 | val_0_accuracy: 0.97934 |  0:41:05s\n",
      "epoch 20 | loss: 0.04506 | val_0_balanced_accuracy: 0.70566 | val_0_accuracy: 0.97384 |  0:43:09s\n",
      "epoch 21 | loss: 0.04521 | val_0_balanced_accuracy: 0.68438 | val_0_accuracy: 0.98087 |  0:45:11s\n",
      "epoch 22 | loss: 0.04478 | val_0_balanced_accuracy: 0.70261 | val_0_accuracy: 0.98116 |  0:47:14s\n",
      "epoch 23 | loss: 0.04433 | val_0_balanced_accuracy: 0.68031 | val_0_accuracy: 0.97562 |  0:49:18s\n",
      "epoch 24 | loss: 0.04547 | val_0_balanced_accuracy: 0.69173 | val_0_accuracy: 0.9803  |  0:51:21s\n",
      "epoch 25 | loss: 0.04481 | val_0_balanced_accuracy: 0.71579 | val_0_accuracy: 0.98099 |  0:53:25s\n",
      "epoch 26 | loss: 0.04201 | val_0_balanced_accuracy: 0.72154 | val_0_accuracy: 0.98133 |  0:55:28s\n",
      "epoch 27 | loss: 0.04205 | val_0_balanced_accuracy: 0.71188 | val_0_accuracy: 0.97631 |  0:57:32s\n",
      "epoch 28 | loss: 0.04226 | val_0_balanced_accuracy: 0.71981 | val_0_accuracy: 0.98224 |  0:59:35s\n",
      "epoch 29 | loss: 0.04179 | val_0_balanced_accuracy: 0.71603 | val_0_accuracy: 0.97625 |  1:01:38s\n",
      "epoch 30 | loss: 0.04187 | val_0_balanced_accuracy: 0.71175 | val_0_accuracy: 0.9782  |  1:03:42s\n",
      "epoch 31 | loss: 0.04181 | val_0_balanced_accuracy: 0.7271  | val_0_accuracy: 0.98123 |  1:05:44s\n",
      "epoch 32 | loss: 0.04173 | val_0_balanced_accuracy: 0.73478 | val_0_accuracy: 0.98242 |  1:07:48s\n",
      "epoch 33 | loss: 0.04181 | val_0_balanced_accuracy: 0.73395 | val_0_accuracy: 0.98225 |  1:09:53s\n",
      "epoch 34 | loss: 0.04137 | val_0_balanced_accuracy: 0.71378 | val_0_accuracy: 0.97766 |  1:11:56s\n",
      "epoch 35 | loss: 0.04144 | val_0_balanced_accuracy: 0.70983 | val_0_accuracy: 0.97791 |  1:14:00s\n",
      "epoch 36 | loss: 0.04156 | val_0_balanced_accuracy: 0.76949 | val_0_accuracy: 0.97672 |  1:16:03s\n",
      "epoch 37 | loss: 0.04016 | val_0_balanced_accuracy: 0.80942 | val_0_accuracy: 0.98058 |  1:18:07s\n",
      "epoch 38 | loss: 0.04019 | val_0_balanced_accuracy: 0.80874 | val_0_accuracy: 0.98079 |  1:20:11s\n",
      "epoch 39 | loss: 0.04003 | val_0_balanced_accuracy: 0.77038 | val_0_accuracy: 0.98322 |  1:22:14s\n",
      "epoch 40 | loss: 0.04003 | val_0_balanced_accuracy: 0.81369 | val_0_accuracy: 0.9823  |  1:24:16s\n",
      "epoch 41 | loss: 0.04004 | val_0_balanced_accuracy: 0.81412 | val_0_accuracy: 0.97878 |  1:26:20s\n",
      "epoch 42 | loss: 0.03996 | val_0_balanced_accuracy: 0.80839 | val_0_accuracy: 0.97821 |  1:28:22s\n",
      "epoch 43 | loss: 0.03976 | val_0_balanced_accuracy: 0.81477 | val_0_accuracy: 0.98185 |  1:30:25s\n",
      "epoch 44 | loss: 0.03974 | val_0_balanced_accuracy: 0.8063  | val_0_accuracy: 0.97655 |  1:32:29s\n",
      "epoch 45 | loss: 0.03972 | val_0_balanced_accuracy: 0.8145  | val_0_accuracy: 0.97819 |  1:34:30s\n",
      "epoch 46 | loss: 0.03958 | val_0_balanced_accuracy: 0.80845 | val_0_accuracy: 0.97618 |  1:36:33s\n",
      "epoch 47 | loss: 0.0396  | val_0_balanced_accuracy: 0.7887  | val_0_accuracy: 0.97892 |  1:38:39s\n",
      "epoch 48 | loss: 0.03874 | val_0_balanced_accuracy: 0.80526 | val_0_accuracy: 0.97697 |  1:40:45s\n",
      "epoch 49 | loss: 0.03868 | val_0_balanced_accuracy: 0.80901 | val_0_accuracy: 0.97887 |  1:42:51s\n",
      "epoch 50 | loss: 0.03862 | val_0_balanced_accuracy: 0.81232 | val_0_accuracy: 0.98106 |  1:44:57s\n",
      "epoch 51 | loss: 0.03862 | val_0_balanced_accuracy: 0.80893 | val_0_accuracy: 0.97671 |  1:47:01s\n",
      "epoch 52 | loss: 0.03847 | val_0_balanced_accuracy: 0.81136 | val_0_accuracy: 0.97689 |  1:49:04s\n",
      "epoch 53 | loss: 0.0385  | val_0_balanced_accuracy: 0.80994 | val_0_accuracy: 0.97634 |  1:51:07s\n",
      "epoch 54 | loss: 0.03843 | val_0_balanced_accuracy: 0.81391 | val_0_accuracy: 0.97755 |  1:53:10s\n",
      "epoch 55 | loss: 0.03839 | val_0_balanced_accuracy: 0.81183 | val_0_accuracy: 0.97799 |  1:55:13s\n",
      "epoch 56 | loss: 0.03834 | val_0_balanced_accuracy: 0.81371 | val_0_accuracy: 0.98238 |  1:57:16s\n",
      "epoch 57 | loss: 0.03834 | val_0_balanced_accuracy: 0.82815 | val_0_accuracy: 0.98392 |  1:59:19s\n",
      "epoch 58 | loss: 0.03838 | val_0_balanced_accuracy: 0.80711 | val_0_accuracy: 0.97703 |  2:01:25s\n",
      "epoch 59 | loss: 0.03783 | val_0_balanced_accuracy: 0.81041 | val_0_accuracy: 0.97678 |  2:03:35s\n",
      "epoch 60 | loss: 0.03777 | val_0_balanced_accuracy: 0.80984 | val_0_accuracy: 0.9771  |  2:05:44s\n",
      "epoch 61 | loss: 0.03775 | val_0_balanced_accuracy: 0.81369 | val_0_accuracy: 0.97927 |  2:07:53s\n",
      "epoch 62 | loss: 0.03773 | val_0_balanced_accuracy: 0.80998 | val_0_accuracy: 0.97711 |  2:10:02s\n",
      "epoch 63 | loss: 0.0377  | val_0_balanced_accuracy: 0.81757 | val_0_accuracy: 0.98145 |  2:12:10s\n",
      "epoch 64 | loss: 0.03767 | val_0_balanced_accuracy: 0.81046 | val_0_accuracy: 0.97596 |  2:14:20s\n",
      "epoch 65 | loss: 0.03765 | val_0_balanced_accuracy: 0.81017 | val_0_accuracy: 0.97716 |  2:16:27s\n",
      "epoch 66 | loss: 0.03762 | val_0_balanced_accuracy: 0.81306 | val_0_accuracy: 0.9795  |  2:18:34s\n",
      "epoch 67 | loss: 0.03767 | val_0_balanced_accuracy: 0.81594 | val_0_accuracy: 0.97793 |  2:20:42s\n",
      "epoch 68 | loss: 0.03758 | val_0_balanced_accuracy: 0.81634 | val_0_accuracy: 0.98169 |  2:22:51s\n",
      "epoch 69 | loss: 0.03759 | val_0_balanced_accuracy: 0.81762 | val_0_accuracy: 0.98207 |  2:24:59s\n",
      "epoch 70 | loss: 0.03732 | val_0_balanced_accuracy: 0.84286 | val_0_accuracy: 0.98397 |  2:27:04s\n",
      "epoch 71 | loss: 0.03725 | val_0_balanced_accuracy: 0.83989 | val_0_accuracy: 0.98604 |  2:29:09s\n",
      "epoch 72 | loss: 0.03722 | val_0_balanced_accuracy: 0.81373 | val_0_accuracy: 0.97877 |  2:31:13s\n",
      "epoch 73 | loss: 0.03725 | val_0_balanced_accuracy: 0.81575 | val_0_accuracy: 0.97997 |  2:33:16s\n",
      "epoch 74 | loss: 0.03722 | val_0_balanced_accuracy: 0.81018 | val_0_accuracy: 0.97433 |  2:35:21s\n",
      "epoch 75 | loss: 0.03717 | val_0_balanced_accuracy: 0.81275 | val_0_accuracy: 0.97657 |  2:37:24s\n",
      "epoch 76 | loss: 0.0372  | val_0_balanced_accuracy: 0.81049 | val_0_accuracy: 0.97663 |  2:39:27s\n",
      "epoch 77 | loss: 0.03718 | val_0_balanced_accuracy: 0.81294 | val_0_accuracy: 0.97732 |  2:41:29s\n",
      "epoch 78 | loss: 0.03717 | val_0_balanced_accuracy: 0.80624 | val_0_accuracy: 0.97675 |  2:43:31s\n",
      "epoch 79 | loss: 0.03718 | val_0_balanced_accuracy: 0.81111 | val_0_accuracy: 0.97475 |  2:45:35s\n",
      "epoch 80 | loss: 0.03714 | val_0_balanced_accuracy: 0.81119 | val_0_accuracy: 0.97608 |  2:47:38s\n",
      "epoch 81 | loss: 0.03699 | val_0_balanced_accuracy: 0.81759 | val_0_accuracy: 0.97768 |  2:49:45s\n",
      "epoch 82 | loss: 0.03696 | val_0_balanced_accuracy: 0.81387 | val_0_accuracy: 0.97772 |  2:51:53s\n",
      "epoch 83 | loss: 0.03696 | val_0_balanced_accuracy: 0.81295 | val_0_accuracy: 0.9799  |  2:54:05s\n",
      "epoch 84 | loss: 0.03698 | val_0_balanced_accuracy: 0.81128 | val_0_accuracy: 0.97691 |  2:56:18s\n",
      "epoch 85 | loss: 0.03696 | val_0_balanced_accuracy: 0.81066 | val_0_accuracy: 0.9765  |  2:58:44s\n",
      "epoch 86 | loss: 0.03697 | val_0_balanced_accuracy: 0.81118 | val_0_accuracy: 0.97624 |  3:01:04s\n",
      "epoch 87 | loss: 0.03697 | val_0_balanced_accuracy: 0.81967 | val_0_accuracy: 0.98291 |  3:03:25s\n",
      "epoch 88 | loss: 0.03697 | val_0_balanced_accuracy: 0.81212 | val_0_accuracy: 0.97717 |  3:05:48s\n",
      "epoch 89 | loss: 0.03693 | val_0_balanced_accuracy: 0.80783 | val_0_accuracy: 0.97724 |  3:08:05s\n",
      "epoch 90 | loss: 0.0369  | val_0_balanced_accuracy: 0.81131 | val_0_accuracy: 0.97678 |  3:10:14s\n",
      "epoch 91 | loss: 0.03692 | val_0_balanced_accuracy: 0.81384 | val_0_accuracy: 0.97768 |  3:12:24s\n",
      "epoch 92 | loss: 0.03684 | val_0_balanced_accuracy: 0.8081  | val_0_accuracy: 0.97676 |  3:14:34s\n",
      "epoch 93 | loss: 0.03684 | val_0_balanced_accuracy: 0.81117 | val_0_accuracy: 0.97691 |  3:16:51s\n",
      "epoch 94 | loss: 0.03687 | val_0_balanced_accuracy: 0.81965 | val_0_accuracy: 0.98121 |  3:19:11s\n",
      "epoch 95 | loss: 0.03683 | val_0_balanced_accuracy: 0.81572 | val_0_accuracy: 0.98137 |  3:21:28s\n",
      "epoch 96 | loss: 0.0368  | val_0_balanced_accuracy: 0.8165  | val_0_accuracy: 0.98158 |  3:23:46s\n",
      "epoch 97 | loss: 0.03679 | val_0_balanced_accuracy: 0.83162 | val_0_accuracy: 0.98431 |  3:26:02s\n",
      "epoch 98 | loss: 0.03682 | val_0_balanced_accuracy: 0.81044 | val_0_accuracy: 0.97684 |  3:28:16s\n",
      "epoch 99 | loss: 0.03681 | val_0_balanced_accuracy: 0.80782 | val_0_accuracy: 0.97519 |  3:30:32s\n",
      "epoch 100| loss: 0.03681 | val_0_balanced_accuracy: 0.81162 | val_0_accuracy: 0.97707 |  3:32:47s\n",
      "epoch 101| loss: 0.03682 | val_0_balanced_accuracy: 0.81529 | val_0_accuracy: 0.98086 |  3:35:00s\n",
      "\n",
      "Early stopping occurred at epoch 101 with best_epoch = 71 and best_val_0_accuracy = 0.98604\n",
      "Successfully saved model at cross_entropy_acc_focused_tabnet_model_size_16.zip.zip\n"
     ]
    },
    {
     "name": "stderr",
     "output_type": "stream",
     "text": [
      "/opt/conda/lib/python3.10/site-packages/pytorch_tabnet/callbacks.py:172: UserWarning: Best weights from best epoch are automatically used!\n",
      "  warnings.warn(wrn_msg)\n"
     ]
    },
    {
     "name": "stdout",
     "output_type": "stream",
     "text": [
      "Training TabNet with n_a=n_d=32\n"
     ]
    },
    {
     "name": "stderr",
     "output_type": "stream",
     "text": [
      "/opt/conda/lib/python3.10/site-packages/pytorch_tabnet/abstract_model.py:82: UserWarning: Device used : cuda\n",
      "  warnings.warn(f\"Device used : {self.device}\")\n"
     ]
    },
    {
     "name": "stdout",
     "output_type": "stream",
     "text": [
      "epoch 0  | loss: 0.11355 | val_0_balanced_accuracy: 0.62626 | val_0_accuracy: 0.96313 |  0:02:13s\n",
      "epoch 1  | loss: 0.06874 | val_0_balanced_accuracy: 0.64849 | val_0_accuracy: 0.96672 |  0:04:19s\n",
      "epoch 2  | loss: 0.06362 | val_0_balanced_accuracy: 0.64406 | val_0_accuracy: 0.97211 |  0:06:26s\n",
      "epoch 3  | loss: 0.06117 | val_0_balanced_accuracy: 0.62123 | val_0_accuracy: 0.97098 |  0:08:32s\n",
      "epoch 4  | loss: 0.05967 | val_0_balanced_accuracy: 0.63943 | val_0_accuracy: 0.97448 |  0:10:37s\n",
      "epoch 5  | loss: 0.05564 | val_0_balanced_accuracy: 0.61959 | val_0_accuracy: 0.97138 |  0:12:43s\n",
      "epoch 6  | loss: 0.05515 | val_0_balanced_accuracy: 0.63173 | val_0_accuracy: 0.97583 |  0:14:49s\n",
      "epoch 7  | loss: 0.05365 | val_0_balanced_accuracy: 0.64671 | val_0_accuracy: 0.95815 |  0:16:54s\n",
      "epoch 8  | loss: 0.05093 | val_0_balanced_accuracy: 0.69159 | val_0_accuracy: 0.96892 |  0:19:01s\n",
      "epoch 9  | loss: 0.0498  | val_0_balanced_accuracy: 0.68533 | val_0_accuracy: 0.96282 |  0:21:05s\n",
      "epoch 10 | loss: 0.05155 | val_0_balanced_accuracy: 0.69359 | val_0_accuracy: 0.97624 |  0:23:12s\n",
      "epoch 11 | loss: 0.04877 | val_0_balanced_accuracy: 0.67908 | val_0_accuracy: 0.94036 |  0:25:18s\n",
      "epoch 12 | loss: 0.0492  | val_0_balanced_accuracy: 0.66527 | val_0_accuracy: 0.97663 |  0:27:24s\n",
      "epoch 13 | loss: 0.04825 | val_0_balanced_accuracy: 0.61042 | val_0_accuracy: 0.93094 |  0:29:29s\n",
      "epoch 14 | loss: 0.04752 | val_0_balanced_accuracy: 0.70816 | val_0_accuracy: 0.98025 |  0:31:34s\n",
      "epoch 15 | loss: 0.04943 | val_0_balanced_accuracy: 0.70255 | val_0_accuracy: 0.98141 |  0:33:38s\n",
      "epoch 16 | loss: 0.04914 | val_0_balanced_accuracy: 0.66281 | val_0_accuracy: 0.97526 |  0:35:46s\n",
      "epoch 17 | loss: 0.04683 | val_0_balanced_accuracy: 0.6714  | val_0_accuracy: 0.97298 |  0:38:03s\n",
      "epoch 18 | loss: 0.04653 | val_0_balanced_accuracy: 0.71004 | val_0_accuracy: 0.97466 |  0:40:14s\n",
      "epoch 19 | loss: 0.04804 | val_0_balanced_accuracy: 0.65994 | val_0_accuracy: 0.97714 |  0:42:25s\n",
      "epoch 20 | loss: 0.0471  | val_0_balanced_accuracy: 0.698   | val_0_accuracy: 0.9739  |  0:44:35s\n",
      "epoch 21 | loss: 0.04593 | val_0_balanced_accuracy: 0.67949 | val_0_accuracy: 0.97727 |  0:46:44s\n",
      "epoch 22 | loss: 0.04603 | val_0_balanced_accuracy: 0.74613 | val_0_accuracy: 0.97764 |  0:48:53s\n",
      "epoch 23 | loss: 0.04731 | val_0_balanced_accuracy: 0.67251 | val_0_accuracy: 0.97365 |  0:51:06s\n",
      "epoch 24 | loss: 0.04593 | val_0_balanced_accuracy: 0.71324 | val_0_accuracy: 0.97469 |  0:53:18s\n",
      "epoch 25 | loss: 0.04331 | val_0_balanced_accuracy: 0.79075 | val_0_accuracy: 0.97665 |  0:55:29s\n",
      "epoch 26 | loss: 0.04322 | val_0_balanced_accuracy: 0.68851 | val_0_accuracy: 0.94999 |  0:57:39s\n",
      "epoch 27 | loss: 0.04388 | val_0_balanced_accuracy: 0.80052 | val_0_accuracy: 0.97738 |  0:59:50s\n",
      "epoch 28 | loss: 0.04314 | val_0_balanced_accuracy: 0.77193 | val_0_accuracy: 0.97955 |  1:01:59s\n",
      "epoch 29 | loss: 0.04341 | val_0_balanced_accuracy: 0.69001 | val_0_accuracy: 0.97714 |  1:04:11s\n",
      "epoch 30 | loss: 0.04283 | val_0_balanced_accuracy: 0.80269 | val_0_accuracy: 0.97803 |  1:06:21s\n",
      "epoch 31 | loss: 0.0432  | val_0_balanced_accuracy: 0.79519 | val_0_accuracy: 0.97633 |  1:08:34s\n",
      "epoch 32 | loss: 0.04287 | val_0_balanced_accuracy: 0.73432 | val_0_accuracy: 0.97899 |  1:10:46s\n",
      "epoch 33 | loss: 0.04274 | val_0_balanced_accuracy: 0.78727 | val_0_accuracy: 0.97683 |  1:13:00s\n",
      "epoch 34 | loss: 0.04272 | val_0_balanced_accuracy: 0.78341 | val_0_accuracy: 0.97734 |  1:15:13s\n",
      "epoch 35 | loss: 0.04296 | val_0_balanced_accuracy: 0.77465 | val_0_accuracy: 0.9767  |  1:17:26s\n",
      "epoch 36 | loss: 0.04105 | val_0_balanced_accuracy: 0.79194 | val_0_accuracy: 0.97702 |  1:19:39s\n",
      "epoch 37 | loss: 0.04114 | val_0_balanced_accuracy: 0.77724 | val_0_accuracy: 0.97618 |  1:21:51s\n",
      "epoch 38 | loss: 0.04109 | val_0_balanced_accuracy: 0.79926 | val_0_accuracy: 0.97748 |  1:24:02s\n",
      "epoch 39 | loss: 0.04098 | val_0_balanced_accuracy: 0.79182 | val_0_accuracy: 0.97652 |  1:26:12s\n",
      "epoch 40 | loss: 0.041   | val_0_balanced_accuracy: 0.82107 | val_0_accuracy: 0.9794  |  1:28:22s\n",
      "epoch 41 | loss: 0.04094 | val_0_balanced_accuracy: 0.78469 | val_0_accuracy: 0.97729 |  1:30:33s\n",
      "epoch 42 | loss: 0.04092 | val_0_balanced_accuracy: 0.79134 | val_0_accuracy: 0.97509 |  1:32:46s\n",
      "epoch 43 | loss: 0.04085 | val_0_balanced_accuracy: 0.79568 | val_0_accuracy: 0.97665 |  1:35:01s\n",
      "epoch 44 | loss: 0.04097 | val_0_balanced_accuracy: 0.7947  | val_0_accuracy: 0.97703 |  1:37:11s\n",
      "epoch 45 | loss: 0.04089 | val_0_balanced_accuracy: 0.77756 | val_0_accuracy: 0.97624 |  1:39:23s\n",
      "\n",
      "Early stopping occurred at epoch 45 with best_epoch = 15 and best_val_0_accuracy = 0.98141\n",
      "Successfully saved model at cross_entropy_acc_focused_tabnet_model_size_32.zip.zip\n"
     ]
    },
    {
     "name": "stderr",
     "output_type": "stream",
     "text": [
      "/opt/conda/lib/python3.10/site-packages/pytorch_tabnet/callbacks.py:172: UserWarning: Best weights from best epoch are automatically used!\n",
      "  warnings.warn(wrn_msg)\n"
     ]
    },
    {
     "name": "stdout",
     "output_type": "stream",
     "text": [
      "Training TabNet with n_a=n_d=64\n"
     ]
    },
    {
     "name": "stderr",
     "output_type": "stream",
     "text": [
      "/opt/conda/lib/python3.10/site-packages/pytorch_tabnet/abstract_model.py:82: UserWarning: Device used : cuda\n",
      "  warnings.warn(f\"Device used : {self.device}\")\n"
     ]
    },
    {
     "name": "stdout",
     "output_type": "stream",
     "text": [
      "epoch 0  | loss: 0.10831 | val_0_balanced_accuracy: 0.67562 | val_0_accuracy: 0.96354 |  0:02:16s\n",
      "epoch 1  | loss: 0.06786 | val_0_balanced_accuracy: 0.66512 | val_0_accuracy: 0.97489 |  0:04:31s\n",
      "epoch 2  | loss: 0.06337 | val_0_balanced_accuracy: 0.68615 | val_0_accuracy: 0.97166 |  0:06:44s\n",
      "epoch 3  | loss: 0.05893 | val_0_balanced_accuracy: 0.65417 | val_0_accuracy: 0.97379 |  0:08:58s\n",
      "epoch 4  | loss: 0.05757 | val_0_balanced_accuracy: 0.66964 | val_0_accuracy: 0.97563 |  0:11:09s\n",
      "epoch 5  | loss: 0.05674 | val_0_balanced_accuracy: 0.70471 | val_0_accuracy: 0.97594 |  0:13:19s\n",
      "epoch 6  | loss: 0.05168 | val_0_balanced_accuracy: 0.68574 | val_0_accuracy: 0.97525 |  0:15:28s\n",
      "epoch 7  | loss: 0.05035 | val_0_balanced_accuracy: 0.6327  | val_0_accuracy: 0.97013 |  0:17:39s\n",
      "epoch 8  | loss: 0.05003 | val_0_balanced_accuracy: 0.70361 | val_0_accuracy: 0.97727 |  0:19:47s\n",
      "epoch 9  | loss: 0.04908 | val_0_balanced_accuracy: 0.70726 | val_0_accuracy: 0.97925 |  0:21:55s\n",
      "epoch 10 | loss: 0.04798 | val_0_balanced_accuracy: 0.71543 | val_0_accuracy: 0.97429 |  0:24:03s\n",
      "epoch 11 | loss: 0.0535  | val_0_balanced_accuracy: 0.69209 | val_0_accuracy: 0.94762 |  0:26:11s\n",
      "epoch 12 | loss: 0.04847 | val_0_balanced_accuracy: 0.71326 | val_0_accuracy: 0.97928 |  0:28:20s\n",
      "epoch 13 | loss: 0.04829 | val_0_balanced_accuracy: 0.71817 | val_0_accuracy: 0.98003 |  0:30:30s\n",
      "epoch 14 | loss: 0.04814 | val_0_balanced_accuracy: 0.71682 | val_0_accuracy: 0.98025 |  0:32:37s\n",
      "epoch 15 | loss: 0.04923 | val_0_balanced_accuracy: 0.71405 | val_0_accuracy: 0.97936 |  0:34:45s\n",
      "epoch 16 | loss: 0.04733 | val_0_balanced_accuracy: 0.72467 | val_0_accuracy: 0.97239 |  0:36:54s\n",
      "epoch 17 | loss: 0.04678 | val_0_balanced_accuracy: 0.70773 | val_0_accuracy: 0.9479  |  0:39:01s\n",
      "epoch 18 | loss: 0.04803 | val_0_balanced_accuracy: 0.72182 | val_0_accuracy: 0.98131 |  0:41:10s\n",
      "epoch 19 | loss: 0.04657 | val_0_balanced_accuracy: 0.68448 | val_0_accuracy: 0.94864 |  0:43:18s\n",
      "epoch 20 | loss: 0.04738 | val_0_balanced_accuracy: 0.70235 | val_0_accuracy: 0.97853 |  0:45:27s\n",
      "epoch 21 | loss: 0.04677 | val_0_balanced_accuracy: 0.72026 | val_0_accuracy: 0.98105 |  0:47:39s\n",
      "epoch 22 | loss: 0.04985 | val_0_balanced_accuracy: 0.69952 | val_0_accuracy: 0.97561 |  0:49:48s\n",
      "epoch 23 | loss: 0.04712 | val_0_balanced_accuracy: 0.72136 | val_0_accuracy: 0.98095 |  0:51:57s\n",
      "epoch 24 | loss: 0.04465 | val_0_balanced_accuracy: 0.71463 | val_0_accuracy: 0.98021 |  0:54:05s\n",
      "epoch 25 | loss: 0.04411 | val_0_balanced_accuracy: 0.72549 | val_0_accuracy: 0.98154 |  0:56:13s\n",
      "epoch 26 | loss: 0.04378 | val_0_balanced_accuracy: 0.72322 | val_0_accuracy: 0.98167 |  0:58:21s\n",
      "epoch 27 | loss: 0.04352 | val_0_balanced_accuracy: 0.75644 | val_0_accuracy: 0.98154 |  1:00:30s\n",
      "epoch 28 | loss: 0.04396 | val_0_balanced_accuracy: 0.72445 | val_0_accuracy: 0.98156 |  1:02:39s\n",
      "epoch 29 | loss: 0.04393 | val_0_balanced_accuracy: 0.75685 | val_0_accuracy: 0.98182 |  1:04:48s\n",
      "epoch 30 | loss: 0.04316 | val_0_balanced_accuracy: 0.68664 | val_0_accuracy: 0.94663 |  1:06:56s\n",
      "epoch 31 | loss: 0.04379 | val_0_balanced_accuracy: 0.71312 | val_0_accuracy: 0.98138 |  1:09:06s\n",
      "epoch 32 | loss: 0.04333 | val_0_balanced_accuracy: 0.75502 | val_0_accuracy: 0.98005 |  1:11:17s\n",
      "epoch 33 | loss: 0.04314 | val_0_balanced_accuracy: 0.74048 | val_0_accuracy: 0.96183 |  1:13:26s\n",
      "epoch 34 | loss: 0.0429  | val_0_balanced_accuracy: 0.76207 | val_0_accuracy: 0.98215 |  1:15:35s\n",
      "epoch 35 | loss: 0.04296 | val_0_balanced_accuracy: 0.75026 | val_0_accuracy: 0.97896 |  1:17:44s\n",
      "epoch 36 | loss: 0.0429  | val_0_balanced_accuracy: 0.71977 | val_0_accuracy: 0.98151 |  1:19:54s\n",
      "epoch 37 | loss: 0.04332 | val_0_balanced_accuracy: 0.72345 | val_0_accuracy: 0.98135 |  1:22:04s\n",
      "epoch 38 | loss: 0.04329 | val_0_balanced_accuracy: 0.75342 | val_0_accuracy: 0.98096 |  1:24:18s\n",
      "epoch 39 | loss: 0.0429  | val_0_balanced_accuracy: 0.76212 | val_0_accuracy: 0.981   |  1:26:35s\n",
      "epoch 40 | loss: 0.04346 | val_0_balanced_accuracy: 0.71666 | val_0_accuracy: 0.97926 |  1:28:48s\n",
      "epoch 41 | loss: 0.04288 | val_0_balanced_accuracy: 0.73578 | val_0_accuracy: 0.98237 |  1:30:58s\n",
      "epoch 42 | loss: 0.04109 | val_0_balanced_accuracy: 0.77289 | val_0_accuracy: 0.98199 |  1:33:08s\n",
      "epoch 43 | loss: 0.04111 | val_0_balanced_accuracy: 0.82265 | val_0_accuracy: 0.98232 |  1:35:15s\n",
      "epoch 44 | loss: 0.04112 | val_0_balanced_accuracy: 0.76937 | val_0_accuracy: 0.98182 |  1:37:24s\n",
      "epoch 45 | loss: 0.04104 | val_0_balanced_accuracy: 0.77587 | val_0_accuracy: 0.98206 |  1:39:35s\n",
      "epoch 46 | loss: 0.04088 | val_0_balanced_accuracy: 0.81004 | val_0_accuracy: 0.98147 |  1:41:44s\n",
      "epoch 47 | loss: 0.04095 | val_0_balanced_accuracy: 0.77042 | val_0_accuracy: 0.98243 |  1:43:53s\n",
      "epoch 48 | loss: 0.04087 | val_0_balanced_accuracy: 0.80617 | val_0_accuracy: 0.98153 |  1:46:01s\n",
      "epoch 49 | loss: 0.04104 | val_0_balanced_accuracy: 0.81193 | val_0_accuracy: 0.98305 |  1:48:09s\n",
      "epoch 50 | loss: 0.04085 | val_0_balanced_accuracy: 0.81708 | val_0_accuracy: 0.98207 |  1:50:20s\n",
      "epoch 51 | loss: 0.04081 | val_0_balanced_accuracy: 0.83334 | val_0_accuracy: 0.98348 |  1:52:31s\n",
      "epoch 52 | loss: 0.04077 | val_0_balanced_accuracy: 0.82763 | val_0_accuracy: 0.98281 |  1:54:42s\n",
      "epoch 53 | loss: 0.03982 | val_0_balanced_accuracy: 0.78032 | val_0_accuracy: 0.84914 |  1:56:51s\n",
      "epoch 54 | loss: 0.03974 | val_0_balanced_accuracy: 0.83543 | val_0_accuracy: 0.98334 |  1:58:59s\n",
      "epoch 55 | loss: 0.03968 | val_0_balanced_accuracy: 0.82159 | val_0_accuracy: 0.97741 |  2:01:08s\n",
      "epoch 56 | loss: 0.03956 | val_0_balanced_accuracy: 0.83149 | val_0_accuracy: 0.9828  |  2:03:16s\n",
      "epoch 57 | loss: 0.03952 | val_0_balanced_accuracy: 0.82098 | val_0_accuracy: 0.98245 |  2:05:24s\n",
      "epoch 58 | loss: 0.03948 | val_0_balanced_accuracy: 0.79507 | val_0_accuracy: 0.89164 |  2:07:32s\n",
      "epoch 59 | loss: 0.03948 | val_0_balanced_accuracy: 0.82144 | val_0_accuracy: 0.98227 |  2:09:40s\n",
      "epoch 60 | loss: 0.03933 | val_0_balanced_accuracy: 0.82554 | val_0_accuracy: 0.98206 |  2:11:49s\n",
      "epoch 61 | loss: 0.03936 | val_0_balanced_accuracy: 0.82706 | val_0_accuracy: 0.98257 |  2:13:58s\n",
      "epoch 62 | loss: 0.03935 | val_0_balanced_accuracy: 0.80623 | val_0_accuracy: 0.91846 |  2:16:09s\n",
      "epoch 63 | loss: 0.03929 | val_0_balanced_accuracy: 0.78783 | val_0_accuracy: 0.86622 |  2:18:21s\n",
      "epoch 64 | loss: 0.03928 | val_0_balanced_accuracy: 0.81736 | val_0_accuracy: 0.98229 |  2:20:30s\n",
      "epoch 65 | loss: 0.03858 | val_0_balanced_accuracy: 0.78677 | val_0_accuracy: 0.86562 |  2:22:38s\n",
      "epoch 66 | loss: 0.03853 | val_0_balanced_accuracy: 0.82105 | val_0_accuracy: 0.98373 |  2:24:48s\n",
      "epoch 67 | loss: 0.03852 | val_0_balanced_accuracy: 0.79488 | val_0_accuracy: 0.87162 |  2:26:57s\n",
      "epoch 68 | loss: 0.03844 | val_0_balanced_accuracy: 0.82306 | val_0_accuracy: 0.98352 |  2:29:06s\n",
      "epoch 69 | loss: 0.03841 | val_0_balanced_accuracy: 0.78641 | val_0_accuracy: 0.85427 |  2:31:15s\n",
      "epoch 70 | loss: 0.03838 | val_0_balanced_accuracy: 0.82706 | val_0_accuracy: 0.96978 |  2:33:23s\n",
      "epoch 71 | loss: 0.03842 | val_0_balanced_accuracy: 0.7819  | val_0_accuracy: 0.84363 |  2:35:32s\n",
      "epoch 72 | loss: 0.03833 | val_0_balanced_accuracy: 0.78733 | val_0_accuracy: 0.85419 |  2:37:40s\n",
      "epoch 73 | loss: 0.03832 | val_0_balanced_accuracy: 0.78172 | val_0_accuracy: 0.84525 |  2:39:49s\n",
      "epoch 74 | loss: 0.03825 | val_0_balanced_accuracy: 0.78457 | val_0_accuracy: 0.87861 |  2:41:57s\n",
      "epoch 75 | loss: 0.0383  | val_0_balanced_accuracy: 0.79626 | val_0_accuracy: 0.88801 |  2:44:06s\n",
      "epoch 76 | loss: 0.03821 | val_0_balanced_accuracy: 0.77773 | val_0_accuracy: 0.8696  |  2:46:14s\n",
      "epoch 77 | loss: 0.0382  | val_0_balanced_accuracy: 0.789   | val_0_accuracy: 0.85782 |  2:48:22s\n",
      "epoch 78 | loss: 0.03817 | val_0_balanced_accuracy: 0.78367 | val_0_accuracy: 0.8439  |  2:50:30s\n",
      "epoch 79 | loss: 0.03817 | val_0_balanced_accuracy: 0.83282 | val_0_accuracy: 0.9836  |  2:52:38s\n",
      "epoch 80 | loss: 0.03809 | val_0_balanced_accuracy: 0.83239 | val_0_accuracy: 0.98275 |  2:54:47s\n",
      "epoch 81 | loss: 0.0381  | val_0_balanced_accuracy: 0.83349 | val_0_accuracy: 0.98259 |  2:56:55s\n",
      "epoch 82 | loss: 0.03805 | val_0_balanced_accuracy: 0.81136 | val_0_accuracy: 0.91418 |  2:59:03s\n",
      "epoch 83 | loss: 0.03764 | val_0_balanced_accuracy: 0.78246 | val_0_accuracy: 0.85034 |  3:01:11s\n",
      "epoch 84 | loss: 0.03758 | val_0_balanced_accuracy: 0.79805 | val_0_accuracy: 0.88345 |  3:03:19s\n",
      "epoch 85 | loss: 0.03762 | val_0_balanced_accuracy: 0.81321 | val_0_accuracy: 0.92438 |  3:05:27s\n",
      "epoch 86 | loss: 0.03755 | val_0_balanced_accuracy: 0.78506 | val_0_accuracy: 0.84356 |  3:07:36s\n",
      "epoch 87 | loss: 0.03751 | val_0_balanced_accuracy: 0.80569 | val_0_accuracy: 0.8991  |  3:09:44s\n",
      "epoch 88 | loss: 0.0375  | val_0_balanced_accuracy: 0.79436 | val_0_accuracy: 0.8628  |  3:11:53s\n",
      "epoch 89 | loss: 0.03749 | val_0_balanced_accuracy: 0.80802 | val_0_accuracy: 0.91451 |  3:14:01s\n",
      "epoch 90 | loss: 0.03747 | val_0_balanced_accuracy: 0.77343 | val_0_accuracy: 0.84328 |  3:16:10s\n",
      "epoch 91 | loss: 0.03746 | val_0_balanced_accuracy: 0.78622 | val_0_accuracy: 0.84373 |  3:18:18s\n",
      "epoch 92 | loss: 0.03742 | val_0_balanced_accuracy: 0.7783  | val_0_accuracy: 0.84349 |  3:20:27s\n",
      "epoch 93 | loss: 0.03746 | val_0_balanced_accuracy: 0.83241 | val_0_accuracy: 0.9827  |  3:22:36s\n",
      "epoch 94 | loss: 0.03739 | val_0_balanced_accuracy: 0.82155 | val_0_accuracy: 0.95328 |  3:24:44s\n",
      "epoch 95 | loss: 0.03739 | val_0_balanced_accuracy: 0.83724 | val_0_accuracy: 0.98364 |  3:26:53s\n",
      "epoch 96 | loss: 0.03736 | val_0_balanced_accuracy: 0.83222 | val_0_accuracy: 0.97989 |  3:29:01s\n",
      "\n",
      "Early stopping occurred at epoch 96 with best_epoch = 66 and best_val_0_accuracy = 0.98373\n",
      "Successfully saved model at cross_entropy_acc_focused_tabnet_model_size_64.zip.zip\n"
     ]
    },
    {
     "name": "stderr",
     "output_type": "stream",
     "text": [
      "/opt/conda/lib/python3.10/site-packages/pytorch_tabnet/callbacks.py:172: UserWarning: Best weights from best epoch are automatically used!\n",
      "  warnings.warn(wrn_msg)\n"
     ]
    },
    {
     "name": "stdout",
     "output_type": "stream",
     "text": [
      "Tuning completed. Models, predictions, and results have been saved.\n"
     ]
    }
   ],
   "source": [
    "sizes = [8, 16, 32, 64]\n",
    "results = []\n",
    "\n",
    "for size in sizes:\n",
    "    print(f\"Training TabNet with n_a=n_d={size}\")\n",
    "\n",
    "    clf = TabNetClassifier(\n",
    "        device_name='cuda',\n",
    "        n_d=size,\n",
    "        n_a=size,\n",
    "        lambda_sparse=0,\n",
    "        mask_type='entmax',\n",
    "        optimizer_params=dict(lr=1e-2, weight_decay=1e-5),\n",
    "        scheduler_fn=torch.optim.lr_scheduler.ReduceLROnPlateau,\n",
    "        scheduler_params={\n",
    "            \"mode\": \"min\",\n",
    "            \"factor\": 0.5,\n",
    "            \"patience\": 10,\n",
    "            \"min_lr\": 1e-5,\n",
    "        },\n",
    "        verbose=1,\n",
    "        seed=42\n",
    "    )\n",
    "\n",
    "    clf.fit(\n",
    "        X_train,\n",
    "        y_train,\n",
    "        eval_set=[(X_valid, y_valid)],\n",
    "        eval_metric=[\"balanced_accuracy\", \"accuracy\"],\n",
    "        max_epochs=100000,\n",
    "        patience=30,\n",
    "        batch_size=1024 * 10,\n",
    "        virtual_batch_size=128 * 10,\n",
    "        compute_importance=False,\n",
    "    )\n",
    "\n",
    "    model_path = f\"cross_entropy_acc_focused_tabnet_model_size_{size}.zip\"\n",
    "    clf.save_model(model_path)\n",
    "\n",
    "    y_pred = clf.predict(X_test)\n",
    "\n",
    "    acc = accuracy_score(y_test, y_pred)\n",
    "    f1 = f1_score(y_test, y_pred, average='weighted')\n",
    "\n",
    "    predictions_path = f\"cross_entropy_acc_focused_y_pred_size_{size}.csv\"\n",
    "    pd.DataFrame(y_pred, columns=[\"y_pred\"]).to_csv(predictions_path, index=False)\n",
    "\n",
    "    results.append({\n",
    "        \"size\": size,\n",
    "        \"accuracy\": acc,\n",
    "        \"f1_score\": f1,\n",
    "        \"model_path\": model_path,\n",
    "        \"predictions_path\": predictions_path,\n",
    "    })\n",
    "\n",
    "results_df = pd.DataFrame(results)\n",
    "results_df.to_csv(\"cross_entropy_acc_focused_results_summary.csv\", index=False)\n",
    "\n",
    "print(\"Tuning completed. Models, predictions, and results have been saved.\")"
   ]
  }
 ],
 "metadata": {
  "kaggle": {
   "accelerator": "gpu",
   "dataSources": [
    {
     "datasetId": 6305510,
     "sourceId": 10203472,
     "sourceType": "datasetVersion"
    }
   ],
   "dockerImageVersionId": 30805,
   "isGpuEnabled": true,
   "isInternetEnabled": true,
   "language": "python",
   "sourceType": "notebook"
  },
  "kernelspec": {
   "display_name": "Python 3",
   "language": "python",
   "name": "python3"
  },
  "language_info": {
   "codemirror_mode": {
    "name": "ipython",
    "version": 3
   },
   "file_extension": ".py",
   "mimetype": "text/x-python",
   "name": "python",
   "nbconvert_exporter": "python",
   "pygments_lexer": "ipython3",
   "version": "3.10.14"
  },
  "papermill": {
   "default_parameters": {},
   "duration": 37439.278484,
   "end_time": "2024-12-16T04:46:45.774106",
   "environment_variables": {},
   "exception": null,
   "input_path": "__notebook__.ipynb",
   "output_path": "__notebook__.ipynb",
   "parameters": {},
   "start_time": "2024-12-15T18:22:46.495622",
   "version": "2.6.0"
  }
 },
 "nbformat": 4,
 "nbformat_minor": 5
}
