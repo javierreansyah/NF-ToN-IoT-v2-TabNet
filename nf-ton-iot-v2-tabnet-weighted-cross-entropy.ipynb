{
 "cells": [
  {
   "cell_type": "code",
   "execution_count": 1,
   "id": "147a4b1c",
   "metadata": {
    "execution": {
     "iopub.execute_input": "2024-12-15T04:43:16.183706Z",
     "iopub.status.busy": "2024-12-15T04:43:16.183020Z",
     "iopub.status.idle": "2024-12-15T04:43:25.871543Z",
     "shell.execute_reply": "2024-12-15T04:43:25.870494Z"
    },
    "papermill": {
     "duration": 9.694537,
     "end_time": "2024-12-15T04:43:25.873627",
     "exception": false,
     "start_time": "2024-12-15T04:43:16.179090",
     "status": "completed"
    },
    "tags": []
   },
   "outputs": [
    {
     "name": "stdout",
     "output_type": "stream",
     "text": [
      "Collecting pytorch-tabnet\r\n",
      "  Downloading pytorch_tabnet-4.1.0-py3-none-any.whl.metadata (15 kB)\r\n",
      "Requirement already satisfied: numpy>=1.17 in /opt/conda/lib/python3.10/site-packages (from pytorch-tabnet) (1.26.4)\r\n",
      "Requirement already satisfied: scikit_learn>0.21 in /opt/conda/lib/python3.10/site-packages (from pytorch-tabnet) (1.2.2)\r\n",
      "Requirement already satisfied: scipy>1.4 in /opt/conda/lib/python3.10/site-packages (from pytorch-tabnet) (1.14.1)\r\n",
      "Requirement already satisfied: torch>=1.3 in /opt/conda/lib/python3.10/site-packages (from pytorch-tabnet) (2.4.0)\r\n",
      "Requirement already satisfied: tqdm>=4.36 in /opt/conda/lib/python3.10/site-packages (from pytorch-tabnet) (4.66.4)\r\n",
      "Requirement already satisfied: joblib>=1.1.1 in /opt/conda/lib/python3.10/site-packages (from scikit_learn>0.21->pytorch-tabnet) (1.4.2)\r\n",
      "Requirement already satisfied: threadpoolctl>=2.0.0 in /opt/conda/lib/python3.10/site-packages (from scikit_learn>0.21->pytorch-tabnet) (3.5.0)\r\n",
      "Requirement already satisfied: filelock in /opt/conda/lib/python3.10/site-packages (from torch>=1.3->pytorch-tabnet) (3.15.1)\r\n",
      "Requirement already satisfied: typing-extensions>=4.8.0 in /opt/conda/lib/python3.10/site-packages (from torch>=1.3->pytorch-tabnet) (4.12.2)\r\n",
      "Requirement already satisfied: sympy in /opt/conda/lib/python3.10/site-packages (from torch>=1.3->pytorch-tabnet) (1.13.3)\r\n",
      "Requirement already satisfied: networkx in /opt/conda/lib/python3.10/site-packages (from torch>=1.3->pytorch-tabnet) (3.3)\r\n",
      "Requirement already satisfied: jinja2 in /opt/conda/lib/python3.10/site-packages (from torch>=1.3->pytorch-tabnet) (3.1.4)\r\n",
      "Requirement already satisfied: fsspec in /opt/conda/lib/python3.10/site-packages (from torch>=1.3->pytorch-tabnet) (2024.6.0)\r\n",
      "Requirement already satisfied: MarkupSafe>=2.0 in /opt/conda/lib/python3.10/site-packages (from jinja2->torch>=1.3->pytorch-tabnet) (2.1.5)\r\n",
      "Requirement already satisfied: mpmath<1.4,>=1.1.0 in /opt/conda/lib/python3.10/site-packages (from sympy->torch>=1.3->pytorch-tabnet) (1.3.0)\r\n",
      "Downloading pytorch_tabnet-4.1.0-py3-none-any.whl (44 kB)\r\n",
      "\u001b[2K   \u001b[90m━━━━━━━━━━━━━━━━━━━━━━━━━━━━━━━━━━━━━━━━\u001b[0m \u001b[32m44.5/44.5 kB\u001b[0m \u001b[31m1.3 MB/s\u001b[0m eta \u001b[36m0:00:00\u001b[0m\r\n",
      "\u001b[?25hInstalling collected packages: pytorch-tabnet\r\n",
      "Successfully installed pytorch-tabnet-4.1.0\r\n"
     ]
    }
   ],
   "source": [
    "!pip install pytorch-tabnet"
   ]
  },
  {
   "cell_type": "code",
   "execution_count": 2,
   "id": "70ad4710",
   "metadata": {
    "execution": {
     "iopub.execute_input": "2024-12-15T04:43:25.880403Z",
     "iopub.status.busy": "2024-12-15T04:43:25.880138Z",
     "iopub.status.idle": "2024-12-15T04:43:30.678418Z",
     "shell.execute_reply": "2024-12-15T04:43:30.677730Z"
    },
    "papermill": {
     "duration": 4.803942,
     "end_time": "2024-12-15T04:43:30.680458",
     "exception": false,
     "start_time": "2024-12-15T04:43:25.876516",
     "status": "completed"
    },
    "tags": []
   },
   "outputs": [],
   "source": [
    "import os\n",
    "import glob\n",
    "import torch\n",
    "import torch.nn as nn\n",
    "import torch.nn.functional as F\n",
    "from torch.utils.data import Dataset\n",
    "import pandas as pd\n",
    "from pytorch_tabnet.tab_model import TabNetClassifier\n",
    "from sklearn.metrics import accuracy_score, f1_score"
   ]
  },
  {
   "cell_type": "code",
   "execution_count": 3,
   "id": "dcd30163",
   "metadata": {
    "execution": {
     "iopub.execute_input": "2024-12-15T04:43:30.687167Z",
     "iopub.status.busy": "2024-12-15T04:43:30.686784Z",
     "iopub.status.idle": "2024-12-15T04:43:30.693146Z",
     "shell.execute_reply": "2024-12-15T04:43:30.692470Z"
    },
    "papermill": {
     "duration": 0.011337,
     "end_time": "2024-12-15T04:43:30.694628",
     "exception": false,
     "start_time": "2024-12-15T04:43:30.683291",
     "status": "completed"
    },
    "tags": []
   },
   "outputs": [],
   "source": [
    "class RowwiseDataset(Dataset):\n",
    "    def __init__(self, X_folder, y_attack_folder):\n",
    "        self.X_data = pd.concat(\n",
    "            [pd.read_parquet(f) for f in sorted(glob.glob(os.path.join(X_folder, \"*.parquet\")))]\n",
    "        ).values\n",
    "        self.y_attack_data = pd.concat(\n",
    "            [pd.read_parquet(f)[\"Attack\"] for f in sorted(glob.glob(os.path.join(y_attack_folder, \"*.parquet\")))]\n",
    "        ).values\n",
    "        assert len(self.X_data) == len(self.y_attack_data), \\\n",
    "            \"Mismatched row counts between features and labels.\"\n",
    "        assert self.y_attack_data.ndim == 1, \"Target data should be 1D after column selection.\"\n",
    "\n",
    "    def __len__(self):\n",
    "        return len(self.X_data)\n",
    "\n",
    "    def __getitem__(self, idx):\n",
    "        return (\n",
    "            torch.tensor(self.X_data[idx], dtype=torch.float32),\n",
    "            torch.tensor(self.y_attack_data[idx], dtype=torch.float32),\n",
    "        )"
   ]
  },
  {
   "cell_type": "code",
   "execution_count": 4,
   "id": "9deabce5",
   "metadata": {
    "execution": {
     "iopub.execute_input": "2024-12-15T04:43:30.700404Z",
     "iopub.status.busy": "2024-12-15T04:43:30.700152Z",
     "iopub.status.idle": "2024-12-15T04:43:30.704253Z",
     "shell.execute_reply": "2024-12-15T04:43:30.703417Z"
    },
    "papermill": {
     "duration": 0.008698,
     "end_time": "2024-12-15T04:43:30.705764",
     "exception": false,
     "start_time": "2024-12-15T04:43:30.697066",
     "status": "completed"
    },
    "tags": []
   },
   "outputs": [],
   "source": [
    "X_train_folder = \"/kaggle/input/nf-ton-iot-v2-cleaned-split/rmv_outlier_std_801010/X_train\"\n",
    "y_train_attack_folder = \"/kaggle/input/nf-ton-iot-v2-cleaned-split/rmv_outlier_std_801010/y_train_attack\"\n",
    "\n",
    "X_valid_folder = \"/kaggle/input/nf-ton-iot-v2-cleaned-split/rmv_outlier_std_801010/X_valid\"\n",
    "y_valid_attack_folder = \"/kaggle/input/nf-ton-iot-v2-cleaned-split/rmv_outlier_std_801010/y_valid_attack\"\n",
    "\n",
    "X_test_folder = \"/kaggle/input/nf-ton-iot-v2-cleaned-split/rmv_outlier_std_801010/X_test\"\n",
    "y_test_attack_folder = \"/kaggle/input/nf-ton-iot-v2-cleaned-split/rmv_outlier_std_801010/y_test_attack\""
   ]
  },
  {
   "cell_type": "code",
   "execution_count": 5,
   "id": "75607dfd",
   "metadata": {
    "execution": {
     "iopub.execute_input": "2024-12-15T04:43:30.711506Z",
     "iopub.status.busy": "2024-12-15T04:43:30.711264Z",
     "iopub.status.idle": "2024-12-15T04:43:40.915993Z",
     "shell.execute_reply": "2024-12-15T04:43:40.915023Z"
    },
    "papermill": {
     "duration": 10.209823,
     "end_time": "2024-12-15T04:43:40.917969",
     "exception": false,
     "start_time": "2024-12-15T04:43:30.708146",
     "status": "completed"
    },
    "tags": []
   },
   "outputs": [],
   "source": [
    "train_dataset = RowwiseDataset(X_train_folder, y_train_attack_folder)\n",
    "valid_dataset = RowwiseDataset(X_valid_folder, y_valid_attack_folder)\n",
    "test_dataset = RowwiseDataset(X_test_folder, y_test_attack_folder)\n",
    "\n",
    "X_train, y_train_attack = train_dataset.X_data, train_dataset.y_attack_data\n",
    "X_valid, y_valid_attack = valid_dataset.X_data, valid_dataset.y_attack_data\n",
    "X_test, y_test_attack = test_dataset.X_data, test_dataset.y_attack_data\n",
    "\n",
    "y_train = y_train_attack\n",
    "y_valid = y_valid_attack\n",
    "y_test = y_test_attack"
   ]
  },
  {
   "cell_type": "code",
   "execution_count": 6,
   "id": "fdc6688f",
   "metadata": {
    "execution": {
     "iopub.execute_input": "2024-12-15T04:43:40.924675Z",
     "iopub.status.busy": "2024-12-15T04:43:40.924118Z",
     "iopub.status.idle": "2024-12-15T04:43:40.928504Z",
     "shell.execute_reply": "2024-12-15T04:43:40.927753Z"
    },
    "papermill": {
     "duration": 0.009536,
     "end_time": "2024-12-15T04:43:40.930264",
     "exception": false,
     "start_time": "2024-12-15T04:43:40.920728",
     "status": "completed"
    },
    "tags": []
   },
   "outputs": [
    {
     "name": "stdout",
     "output_type": "stream",
     "text": [
      "X_train shape: (10025308, 48), y_train shape: (10025308,)\n",
      "X_valid shape: (1430469, 48), y_valid shape: (1430469,)\n",
      "X_test shape: (1270467, 48), y_test shape: (1270467,)\n"
     ]
    }
   ],
   "source": [
    "print(f\"X_train shape: {X_train.shape}, y_train shape: {y_train.shape}\")\n",
    "print(f\"X_valid shape: {X_valid.shape}, y_valid shape: {y_valid.shape}\")\n",
    "print(f\"X_test shape: {X_test.shape}, y_test shape: {y_test.shape}\")"
   ]
  },
  {
   "cell_type": "code",
   "execution_count": 7,
   "id": "28f61c1f",
   "metadata": {
    "execution": {
     "iopub.execute_input": "2024-12-15T04:43:40.937127Z",
     "iopub.status.busy": "2024-12-15T04:43:40.936883Z",
     "iopub.status.idle": "2024-12-15T04:43:40.941958Z",
     "shell.execute_reply": "2024-12-15T04:43:40.941170Z"
    },
    "papermill": {
     "duration": 0.00981,
     "end_time": "2024-12-15T04:43:40.943607",
     "exception": false,
     "start_time": "2024-12-15T04:43:40.933797",
     "status": "completed"
    },
    "tags": []
   },
   "outputs": [],
   "source": [
    "class WeightedCrossEntropyLoss(nn.Module):\n",
    "    def __init__(self, cls_num_list, reduction='mean'):\n",
    "        super(WeightedCrossEntropyLoss, self).__init__()\n",
    "        total_samples = sum(cls_num_list)\n",
    "        self.class_weights = torch.tensor([total_samples / c for c in cls_num_list])\n",
    "        self.reduction = reduction\n",
    "\n",
    "    def forward(self, inputs, targets):\n",
    "        log_probs = F.log_softmax(inputs, dim=1)\n",
    "        weights = self.class_weights.to(inputs.device)\n",
    "        loss = F.nll_loss(log_probs, targets, weight=weights, reduction=self.reduction)\n",
    "        return loss"
   ]
  },
  {
   "cell_type": "code",
   "execution_count": 8,
   "id": "a6bcfd46",
   "metadata": {
    "execution": {
     "iopub.execute_input": "2024-12-15T04:43:40.954010Z",
     "iopub.status.busy": "2024-12-15T04:43:40.953347Z",
     "iopub.status.idle": "2024-12-15T04:43:40.973945Z",
     "shell.execute_reply": "2024-12-15T04:43:40.973117Z"
    },
    "papermill": {
     "duration": 0.029223,
     "end_time": "2024-12-15T04:43:40.975563",
     "exception": false,
     "start_time": "2024-12-15T04:43:40.946340",
     "status": "completed"
    },
    "tags": []
   },
   "outputs": [],
   "source": [
    "cls_num_list = [4357259, 2943073, 1001429, 961486, 480101, 152251, 125024, 4149, 427, 109]\n",
    "weighted_ce_loss = WeightedCrossEntropyLoss(cls_num_list=cls_num_list)"
   ]
  },
  {
   "cell_type": "code",
   "execution_count": 9,
   "id": "ee8f231a",
   "metadata": {
    "execution": {
     "iopub.execute_input": "2024-12-15T04:43:40.981717Z",
     "iopub.status.busy": "2024-12-15T04:43:40.981192Z",
     "iopub.status.idle": "2024-12-15T13:27:00.311870Z",
     "shell.execute_reply": "2024-12-15T13:27:00.310847Z"
    },
    "papermill": {
     "duration": 31399.335559,
     "end_time": "2024-12-15T13:27:00.313666",
     "exception": false,
     "start_time": "2024-12-15T04:43:40.978107",
     "status": "completed"
    },
    "tags": []
   },
   "outputs": [
    {
     "name": "stdout",
     "output_type": "stream",
     "text": [
      "Training TabNet with n_a=n_d=8\n"
     ]
    },
    {
     "name": "stderr",
     "output_type": "stream",
     "text": [
      "/opt/conda/lib/python3.10/site-packages/pytorch_tabnet/abstract_model.py:82: UserWarning: Device used : cuda\n",
      "  warnings.warn(f\"Device used : {self.device}\")\n"
     ]
    },
    {
     "name": "stdout",
     "output_type": "stream",
     "text": [
      "epoch 0  | loss: 0.74514 | val_0_accuracy: 0.89802 | val_0_balanced_accuracy: 0.82433 |  0:02:05s\n",
      "epoch 1  | loss: 0.42546 | val_0_accuracy: 0.79238 | val_0_balanced_accuracy: 0.80441 |  0:04:08s\n",
      "epoch 2  | loss: 0.41237 | val_0_accuracy: 0.93024 | val_0_balanced_accuracy: 0.81676 |  0:06:11s\n",
      "epoch 3  | loss: 0.37237 | val_0_accuracy: 0.92171 | val_0_balanced_accuracy: 0.84705 |  0:08:15s\n",
      "epoch 4  | loss: 0.34466 | val_0_accuracy: 0.91295 | val_0_balanced_accuracy: 0.81349 |  0:10:19s\n",
      "epoch 5  | loss: 0.34954 | val_0_accuracy: 0.93028 | val_0_balanced_accuracy: 0.84809 |  0:12:24s\n",
      "epoch 6  | loss: 0.34514 | val_0_accuracy: 0.93261 | val_0_balanced_accuracy: 0.86704 |  0:14:28s\n",
      "epoch 7  | loss: 0.32781 | val_0_accuracy: 0.93087 | val_0_balanced_accuracy: 0.85911 |  0:16:32s\n",
      "epoch 8  | loss: 0.30496 | val_0_accuracy: 0.93782 | val_0_balanced_accuracy: 0.87627 |  0:18:35s\n",
      "epoch 9  | loss: 0.29128 | val_0_accuracy: 0.93703 | val_0_balanced_accuracy: 0.85659 |  0:20:39s\n",
      "epoch 10 | loss: 0.27215 | val_0_accuracy: 0.67763 | val_0_balanced_accuracy: 0.78074 |  0:22:44s\n",
      "epoch 11 | loss: 0.2687  | val_0_accuracy: 0.91899 | val_0_balanced_accuracy: 0.83526 |  0:24:47s\n",
      "epoch 12 | loss: 0.28232 | val_0_accuracy: 0.93949 | val_0_balanced_accuracy: 0.89117 |  0:26:50s\n",
      "epoch 13 | loss: 0.27818 | val_0_accuracy: 0.93783 | val_0_balanced_accuracy: 0.88985 |  0:28:53s\n",
      "epoch 14 | loss: 0.26572 | val_0_accuracy: 0.93979 | val_0_balanced_accuracy: 0.88161 |  0:30:58s\n",
      "epoch 15 | loss: 0.26151 | val_0_accuracy: 0.94003 | val_0_balanced_accuracy: 0.89066 |  0:33:01s\n",
      "epoch 16 | loss: 0.26073 | val_0_accuracy: 0.93762 | val_0_balanced_accuracy: 0.88195 |  0:35:05s\n",
      "epoch 17 | loss: 0.25989 | val_0_accuracy: 0.91833 | val_0_balanced_accuracy: 0.84395 |  0:37:09s\n",
      "epoch 18 | loss: 0.25044 | val_0_accuracy: 0.93676 | val_0_balanced_accuracy: 0.88483 |  0:39:12s\n",
      "epoch 19 | loss: 0.24802 | val_0_accuracy: 0.92721 | val_0_balanced_accuracy: 0.87696 |  0:41:16s\n",
      "epoch 20 | loss: 0.25826 | val_0_accuracy: 0.94067 | val_0_balanced_accuracy: 0.88245 |  0:43:19s\n",
      "epoch 21 | loss: 0.23694 | val_0_accuracy: 0.94499 | val_0_balanced_accuracy: 0.88809 |  0:45:23s\n",
      "epoch 22 | loss: 0.2251  | val_0_accuracy: 0.92983 | val_0_balanced_accuracy: 0.88426 |  0:47:26s\n",
      "epoch 23 | loss: 0.22104 | val_0_accuracy: 0.94382 | val_0_balanced_accuracy: 0.89004 |  0:49:29s\n",
      "epoch 24 | loss: 0.22721 | val_0_accuracy: 0.94468 | val_0_balanced_accuracy: 0.89635 |  0:51:32s\n",
      "epoch 25 | loss: 0.21368 | val_0_accuracy: 0.94501 | val_0_balanced_accuracy: 0.89354 |  0:53:36s\n",
      "epoch 26 | loss: 0.21392 | val_0_accuracy: 0.94012 | val_0_balanced_accuracy: 0.88898 |  0:55:40s\n",
      "epoch 27 | loss: 0.20916 | val_0_accuracy: 0.93919 | val_0_balanced_accuracy: 0.88945 |  0:57:42s\n",
      "epoch 28 | loss: 0.21669 | val_0_accuracy: 0.92688 | val_0_balanced_accuracy: 0.88608 |  0:59:46s\n",
      "epoch 29 | loss: 0.22094 | val_0_accuracy: 0.94368 | val_0_balanced_accuracy: 0.88716 |  1:01:49s\n",
      "epoch 30 | loss: 0.21241 | val_0_accuracy: 0.94415 | val_0_balanced_accuracy: 0.8926  |  1:03:53s\n",
      "epoch 31 | loss: 0.21516 | val_0_accuracy: 0.9441  | val_0_balanced_accuracy: 0.8926  |  1:05:56s\n",
      "epoch 32 | loss: 0.21011 | val_0_accuracy: 0.9456  | val_0_balanced_accuracy: 0.89498 |  1:08:00s\n",
      "epoch 33 | loss: 0.20479 | val_0_accuracy: 0.92429 | val_0_balanced_accuracy: 0.85169 |  1:10:06s\n",
      "epoch 34 | loss: 0.20045 | val_0_accuracy: 0.94594 | val_0_balanced_accuracy: 0.8926  |  1:12:11s\n",
      "epoch 35 | loss: 0.2011  | val_0_accuracy: 0.94584 | val_0_balanced_accuracy: 0.89385 |  1:14:16s\n",
      "epoch 36 | loss: 0.20446 | val_0_accuracy: 0.94712 | val_0_balanced_accuracy: 0.88915 |  1:16:24s\n",
      "epoch 37 | loss: 0.19676 | val_0_accuracy: 0.94514 | val_0_balanced_accuracy: 0.8956  |  1:18:29s\n",
      "epoch 38 | loss: 0.20167 | val_0_accuracy: 0.94435 | val_0_balanced_accuracy: 0.89165 |  1:20:34s\n",
      "epoch 39 | loss: 0.19772 | val_0_accuracy: 0.94647 | val_0_balanced_accuracy: 0.89717 |  1:22:38s\n",
      "epoch 40 | loss: 0.20015 | val_0_accuracy: 0.94548 | val_0_balanced_accuracy: 0.89614 |  1:24:46s\n",
      "epoch 41 | loss: 0.19911 | val_0_accuracy: 0.94416 | val_0_balanced_accuracy: 0.88477 |  1:26:51s\n",
      "epoch 42 | loss: 0.19904 | val_0_accuracy: 0.94634 | val_0_balanced_accuracy: 0.89419 |  1:28:56s\n",
      "epoch 43 | loss: 0.1995  | val_0_accuracy: 0.94587 | val_0_balanced_accuracy: 0.89389 |  1:31:02s\n",
      "epoch 44 | loss: 0.19691 | val_0_accuracy: 0.94613 | val_0_balanced_accuracy: 0.89543 |  1:33:08s\n",
      "epoch 45 | loss: 0.19531 | val_0_accuracy: 0.94653 | val_0_balanced_accuracy: 0.89426 |  1:35:15s\n",
      "epoch 46 | loss: 0.19294 | val_0_accuracy: 0.94544 | val_0_balanced_accuracy: 0.89123 |  1:37:22s\n",
      "epoch 47 | loss: 0.19614 | val_0_accuracy: 0.94605 | val_0_balanced_accuracy: 0.89191 |  1:39:29s\n",
      "epoch 48 | loss: 0.19234 | val_0_accuracy: 0.9467  | val_0_balanced_accuracy: 0.89389 |  1:41:35s\n",
      "epoch 49 | loss: 0.19248 | val_0_accuracy: 0.94719 | val_0_balanced_accuracy: 0.88973 |  1:43:42s\n",
      "epoch 50 | loss: 0.1918  | val_0_accuracy: 0.94608 | val_0_balanced_accuracy: 0.89425 |  1:45:51s\n",
      "epoch 51 | loss: 0.19091 | val_0_accuracy: 0.94526 | val_0_balanced_accuracy: 0.89197 |  1:47:59s\n",
      "epoch 52 | loss: 0.19001 | val_0_accuracy: 0.94671 | val_0_balanced_accuracy: 0.89402 |  1:50:07s\n",
      "epoch 53 | loss: 0.19382 | val_0_accuracy: 0.9403  | val_0_balanced_accuracy: 0.88394 |  1:52:15s\n",
      "epoch 54 | loss: 0.19262 | val_0_accuracy: 0.94433 | val_0_balanced_accuracy: 0.88772 |  1:54:24s\n",
      "epoch 55 | loss: 0.18884 | val_0_accuracy: 0.94544 | val_0_balanced_accuracy: 0.88661 |  1:56:33s\n",
      "epoch 56 | loss: 0.19256 | val_0_accuracy: 0.94622 | val_0_balanced_accuracy: 0.89206 |  1:58:41s\n",
      "epoch 57 | loss: 0.19123 | val_0_accuracy: 0.94664 | val_0_balanced_accuracy: 0.8939  |  2:00:50s\n",
      "epoch 58 | loss: 0.18958 | val_0_accuracy: 0.94642 | val_0_balanced_accuracy: 0.89249 |  2:02:59s\n",
      "epoch 59 | loss: 0.19028 | val_0_accuracy: 0.94754 | val_0_balanced_accuracy: 0.89234 |  2:05:07s\n",
      "epoch 60 | loss: 0.189   | val_0_accuracy: 0.94658 | val_0_balanced_accuracy: 0.89371 |  2:07:17s\n",
      "epoch 61 | loss: 0.18945 | val_0_accuracy: 0.94373 | val_0_balanced_accuracy: 0.88916 |  2:09:26s\n",
      "epoch 62 | loss: 0.18804 | val_0_accuracy: 0.94406 | val_0_balanced_accuracy: 0.88871 |  2:11:34s\n",
      "epoch 63 | loss: 0.19668 | val_0_accuracy: 0.94587 | val_0_balanced_accuracy: 0.89416 |  2:13:42s\n",
      "epoch 64 | loss: 0.19296 | val_0_accuracy: 0.94731 | val_0_balanced_accuracy: 0.89393 |  2:15:50s\n",
      "epoch 65 | loss: 0.18766 | val_0_accuracy: 0.94567 | val_0_balanced_accuracy: 0.8879  |  2:17:59s\n",
      "epoch 66 | loss: 0.18906 | val_0_accuracy: 0.94891 | val_0_balanced_accuracy: 0.89724 |  2:20:08s\n",
      "epoch 67 | loss: 0.18636 | val_0_accuracy: 0.94388 | val_0_balanced_accuracy: 0.88847 |  2:22:16s\n",
      "epoch 68 | loss: 0.18714 | val_0_accuracy: 0.9446  | val_0_balanced_accuracy: 0.88791 |  2:24:23s\n",
      "epoch 69 | loss: 0.18879 | val_0_accuracy: 0.9466  | val_0_balanced_accuracy: 0.89222 |  2:26:30s\n",
      "epoch 70 | loss: 0.18828 | val_0_accuracy: 0.94248 | val_0_balanced_accuracy: 0.889   |  2:28:36s\n",
      "epoch 71 | loss: 0.18786 | val_0_accuracy: 0.94667 | val_0_balanced_accuracy: 0.8917  |  2:30:42s\n",
      "epoch 72 | loss: 0.18529 | val_0_accuracy: 0.94333 | val_0_balanced_accuracy: 0.88771 |  2:32:48s\n",
      "epoch 73 | loss: 0.18946 | val_0_accuracy: 0.94715 | val_0_balanced_accuracy: 0.89033 |  2:34:54s\n",
      "epoch 74 | loss: 0.1867  | val_0_accuracy: 0.94496 | val_0_balanced_accuracy: 0.88928 |  2:36:59s\n",
      "epoch 75 | loss: 0.18565 | val_0_accuracy: 0.94574 | val_0_balanced_accuracy: 0.89179 |  2:39:07s\n",
      "epoch 76 | loss: 0.18736 | val_0_accuracy: 0.94589 | val_0_balanced_accuracy: 0.89093 |  2:41:13s\n",
      "epoch 77 | loss: 0.1873  | val_0_accuracy: 0.94707 | val_0_balanced_accuracy: 0.89182 |  2:43:23s\n",
      "epoch 78 | loss: 0.18838 | val_0_accuracy: 0.94423 | val_0_balanced_accuracy: 0.88958 |  2:45:33s\n",
      "epoch 79 | loss: 0.18714 | val_0_accuracy: 0.9461  | val_0_balanced_accuracy: 0.89131 |  2:47:43s\n",
      "epoch 80 | loss: 0.1851  | val_0_accuracy: 0.94289 | val_0_balanced_accuracy: 0.88665 |  2:49:52s\n",
      "epoch 81 | loss: 0.18701 | val_0_accuracy: 0.94675 | val_0_balanced_accuracy: 0.89311 |  2:52:02s\n",
      "epoch 82 | loss: 0.18755 | val_0_accuracy: 0.94623 | val_0_balanced_accuracy: 0.89137 |  2:54:12s\n",
      "epoch 83 | loss: 0.1854  | val_0_accuracy: 0.94434 | val_0_balanced_accuracy: 0.88895 |  2:56:23s\n",
      "epoch 84 | loss: 0.18564 | val_0_accuracy: 0.94523 | val_0_balanced_accuracy: 0.89051 |  2:58:34s\n",
      "epoch 85 | loss: 0.18561 | val_0_accuracy: 0.94661 | val_0_balanced_accuracy: 0.8909  |  3:00:44s\n",
      "epoch 86 | loss: 0.18708 | val_0_accuracy: 0.94396 | val_0_balanced_accuracy: 0.88845 |  3:02:54s\n",
      "epoch 87 | loss: 0.18399 | val_0_accuracy: 0.94701 | val_0_balanced_accuracy: 0.89286 |  3:05:05s\n",
      "epoch 88 | loss: 0.1847  | val_0_accuracy: 0.94691 | val_0_balanced_accuracy: 0.89139 |  3:07:16s\n",
      "epoch 89 | loss: 0.18576 | val_0_accuracy: 0.9453  | val_0_balanced_accuracy: 0.89017 |  3:09:28s\n",
      "epoch 90 | loss: 0.18475 | val_0_accuracy: 0.94594 | val_0_balanced_accuracy: 0.89157 |  3:11:38s\n",
      "epoch 91 | loss: 0.18423 | val_0_accuracy: 0.9471  | val_0_balanced_accuracy: 0.89004 |  3:13:50s\n",
      "epoch 92 | loss: 0.18542 | val_0_accuracy: 0.94669 | val_0_balanced_accuracy: 0.89037 |  3:16:01s\n",
      "epoch 93 | loss: 0.1854  | val_0_accuracy: 0.94396 | val_0_balanced_accuracy: 0.8894  |  3:18:13s\n",
      "epoch 94 | loss: 0.18421 | val_0_accuracy: 0.94609 | val_0_balanced_accuracy: 0.89189 |  3:20:20s\n",
      "epoch 95 | loss: 0.18385 | val_0_accuracy: 0.94428 | val_0_balanced_accuracy: 0.88944 |  3:22:27s\n",
      "epoch 96 | loss: 0.18429 | val_0_accuracy: 0.94588 | val_0_balanced_accuracy: 0.89276 |  3:24:32s\n",
      "\n",
      "Early stopping occurred at epoch 96 with best_epoch = 66 and best_val_0_balanced_accuracy = 0.89724\n",
      "Successfully saved model at weighted_cross_entropy_tabnet_model_size_8.zip.zip\n"
     ]
    },
    {
     "name": "stderr",
     "output_type": "stream",
     "text": [
      "/opt/conda/lib/python3.10/site-packages/pytorch_tabnet/callbacks.py:172: UserWarning: Best weights from best epoch are automatically used!\n",
      "  warnings.warn(wrn_msg)\n"
     ]
    },
    {
     "name": "stdout",
     "output_type": "stream",
     "text": [
      "Training TabNet with n_a=n_d=16\n"
     ]
    },
    {
     "name": "stderr",
     "output_type": "stream",
     "text": [
      "/opt/conda/lib/python3.10/site-packages/pytorch_tabnet/abstract_model.py:82: UserWarning: Device used : cuda\n",
      "  warnings.warn(f\"Device used : {self.device}\")\n"
     ]
    },
    {
     "name": "stdout",
     "output_type": "stream",
     "text": [
      "epoch 0  | loss: 0.72419 | val_0_accuracy: 0.91415 | val_0_balanced_accuracy: 0.8407  |  0:02:05s\n",
      "epoch 1  | loss: 0.42906 | val_0_accuracy: 0.91105 | val_0_balanced_accuracy: 0.83897 |  0:04:12s\n",
      "epoch 2  | loss: 0.36486 | val_0_accuracy: 0.90841 | val_0_balanced_accuracy: 0.73797 |  0:06:18s\n",
      "epoch 3  | loss: 0.35594 | val_0_accuracy: 0.83112 | val_0_balanced_accuracy: 0.82546 |  0:08:24s\n",
      "epoch 4  | loss: 0.31023 | val_0_accuracy: 0.70714 | val_0_balanced_accuracy: 0.69024 |  0:10:30s\n",
      "epoch 5  | loss: 0.34301 | val_0_accuracy: 0.7272  | val_0_balanced_accuracy: 0.7788  |  0:12:35s\n",
      "epoch 6  | loss: 0.30381 | val_0_accuracy: 0.7641  | val_0_balanced_accuracy: 0.80054 |  0:14:42s\n",
      "epoch 7  | loss: 0.29865 | val_0_accuracy: 0.85987 | val_0_balanced_accuracy: 0.81362 |  0:16:48s\n",
      "epoch 8  | loss: 0.29019 | val_0_accuracy: 0.80291 | val_0_balanced_accuracy: 0.80262 |  0:18:55s\n",
      "epoch 9  | loss: 0.29962 | val_0_accuracy: 0.77233 | val_0_balanced_accuracy: 0.80436 |  0:21:01s\n",
      "epoch 10 | loss: 0.26618 | val_0_accuracy: 0.68396 | val_0_balanced_accuracy: 0.72696 |  0:23:08s\n",
      "epoch 11 | loss: 0.27409 | val_0_accuracy: 0.60887 | val_0_balanced_accuracy: 0.7522  |  0:25:14s\n",
      "epoch 12 | loss: 0.26992 | val_0_accuracy: 0.84507 | val_0_balanced_accuracy: 0.80308 |  0:27:20s\n",
      "epoch 13 | loss: 0.26343 | val_0_accuracy: 0.73436 | val_0_balanced_accuracy: 0.78667 |  0:29:27s\n",
      "epoch 14 | loss: 0.2548  | val_0_accuracy: 0.66157 | val_0_balanced_accuracy: 0.63734 |  0:31:33s\n",
      "epoch 15 | loss: 0.24488 | val_0_accuracy: 0.6891  | val_0_balanced_accuracy: 0.77747 |  0:33:38s\n",
      "epoch 16 | loss: 0.26035 | val_0_accuracy: 0.78599 | val_0_balanced_accuracy: 0.79931 |  0:35:44s\n",
      "epoch 17 | loss: 0.24157 | val_0_accuracy: 0.92174 | val_0_balanced_accuracy: 0.83551 |  0:37:50s\n",
      "epoch 18 | loss: 0.24997 | val_0_accuracy: 0.80884 | val_0_balanced_accuracy: 0.79613 |  0:39:58s\n",
      "epoch 19 | loss: 0.24047 | val_0_accuracy: 0.87543 | val_0_balanced_accuracy: 0.82707 |  0:42:05s\n",
      "epoch 20 | loss: 0.25503 | val_0_accuracy: 0.85863 | val_0_balanced_accuracy: 0.80741 |  0:44:14s\n",
      "epoch 21 | loss: 0.24811 | val_0_accuracy: 0.90923 | val_0_balanced_accuracy: 0.81656 |  0:46:25s\n",
      "epoch 22 | loss: 0.22925 | val_0_accuracy: 0.91113 | val_0_balanced_accuracy: 0.81572 |  0:48:35s\n",
      "epoch 23 | loss: 0.24776 | val_0_accuracy: 0.9007  | val_0_balanced_accuracy: 0.78607 |  0:50:46s\n",
      "epoch 24 | loss: 0.24048 | val_0_accuracy: 0.88381 | val_0_balanced_accuracy: 0.82199 |  0:52:57s\n",
      "epoch 25 | loss: 0.24426 | val_0_accuracy: 0.8867  | val_0_balanced_accuracy: 0.7425  |  0:55:09s\n",
      "epoch 26 | loss: 0.21211 | val_0_accuracy: 0.91872 | val_0_balanced_accuracy: 0.82161 |  0:57:20s\n",
      "epoch 27 | loss: 0.21061 | val_0_accuracy: 0.91161 | val_0_balanced_accuracy: 0.81135 |  0:59:30s\n",
      "epoch 28 | loss: 0.21676 | val_0_accuracy: 0.91145 | val_0_balanced_accuracy: 0.82316 |  1:01:42s\n",
      "epoch 29 | loss: 0.22    | val_0_accuracy: 0.90738 | val_0_balanced_accuracy: 0.81868 |  1:03:54s\n",
      "epoch 30 | loss: 0.21355 | val_0_accuracy: 0.90783 | val_0_balanced_accuracy: 0.81982 |  1:06:05s\n",
      "\n",
      "Early stopping occurred at epoch 30 with best_epoch = 0 and best_val_0_balanced_accuracy = 0.8407\n",
      "Successfully saved model at weighted_cross_entropy_tabnet_model_size_16.zip.zip\n"
     ]
    },
    {
     "name": "stderr",
     "output_type": "stream",
     "text": [
      "/opt/conda/lib/python3.10/site-packages/pytorch_tabnet/callbacks.py:172: UserWarning: Best weights from best epoch are automatically used!\n",
      "  warnings.warn(wrn_msg)\n"
     ]
    },
    {
     "name": "stdout",
     "output_type": "stream",
     "text": [
      "Training TabNet with n_a=n_d=32\n"
     ]
    },
    {
     "name": "stderr",
     "output_type": "stream",
     "text": [
      "/opt/conda/lib/python3.10/site-packages/pytorch_tabnet/abstract_model.py:82: UserWarning: Device used : cuda\n",
      "  warnings.warn(f\"Device used : {self.device}\")\n"
     ]
    },
    {
     "name": "stdout",
     "output_type": "stream",
     "text": [
      "epoch 0  | loss: 0.7145  | val_0_accuracy: 0.85705 | val_0_balanced_accuracy: 0.6555  |  0:02:11s\n",
      "epoch 1  | loss: 0.40972 | val_0_accuracy: 0.82554 | val_0_balanced_accuracy: 0.8141  |  0:04:23s\n",
      "epoch 2  | loss: 0.35709 | val_0_accuracy: 0.89693 | val_0_balanced_accuracy: 0.74546 |  0:06:35s\n",
      "epoch 3  | loss: 0.34607 | val_0_accuracy: 0.8861  | val_0_balanced_accuracy: 0.80844 |  0:08:45s\n",
      "epoch 4  | loss: 0.32846 | val_0_accuracy: 0.88091 | val_0_balanced_accuracy: 0.81987 |  0:10:54s\n",
      "epoch 5  | loss: 0.34058 | val_0_accuracy: 0.85081 | val_0_balanced_accuracy: 0.73346 |  0:13:03s\n",
      "epoch 6  | loss: 0.33576 | val_0_accuracy: 0.89536 | val_0_balanced_accuracy: 0.72415 |  0:15:12s\n",
      "epoch 7  | loss: 0.29574 | val_0_accuracy: 0.89666 | val_0_balanced_accuracy: 0.72443 |  0:17:20s\n",
      "epoch 8  | loss: 0.29492 | val_0_accuracy: 0.86261 | val_0_balanced_accuracy: 0.71855 |  0:19:30s\n",
      "epoch 9  | loss: 0.29254 | val_0_accuracy: 0.92185 | val_0_balanced_accuracy: 0.8233  |  0:21:39s\n",
      "epoch 10 | loss: 0.28362 | val_0_accuracy: 0.90456 | val_0_balanced_accuracy: 0.82211 |  0:23:51s\n",
      "epoch 11 | loss: 0.27317 | val_0_accuracy: 0.92774 | val_0_balanced_accuracy: 0.83435 |  0:26:00s\n",
      "epoch 12 | loss: 0.24256 | val_0_accuracy: 0.92668 | val_0_balanced_accuracy: 0.77807 |  0:28:10s\n",
      "epoch 13 | loss: 0.23909 | val_0_accuracy: 0.91388 | val_0_balanced_accuracy: 0.82713 |  0:30:19s\n",
      "epoch 14 | loss: 0.24941 | val_0_accuracy: 0.90716 | val_0_balanced_accuracy: 0.82181 |  0:32:29s\n",
      "epoch 15 | loss: 0.24221 | val_0_accuracy: 0.94034 | val_0_balanced_accuracy: 0.8853  |  0:34:37s\n",
      "epoch 16 | loss: 0.24277 | val_0_accuracy: 0.91785 | val_0_balanced_accuracy: 0.83597 |  0:36:46s\n",
      "epoch 17 | loss: 0.2299  | val_0_accuracy: 0.94075 | val_0_balanced_accuracy: 0.88023 |  0:38:56s\n",
      "epoch 18 | loss: 0.23031 | val_0_accuracy: 0.93697 | val_0_balanced_accuracy: 0.85967 |  0:41:05s\n",
      "epoch 19 | loss: 0.22716 | val_0_accuracy: 0.89601 | val_0_balanced_accuracy: 0.73412 |  0:43:15s\n",
      "epoch 20 | loss: 0.26651 | val_0_accuracy: 0.91391 | val_0_balanced_accuracy: 0.80329 |  0:45:20s\n",
      "epoch 21 | loss: 0.24665 | val_0_accuracy: 0.93866 | val_0_balanced_accuracy: 0.87053 |  0:47:24s\n",
      "epoch 22 | loss: 0.24201 | val_0_accuracy: 0.93023 | val_0_balanced_accuracy: 0.85042 |  0:49:27s\n",
      "epoch 23 | loss: 0.23042 | val_0_accuracy: 0.93779 | val_0_balanced_accuracy: 0.85774 |  0:51:35s\n",
      "epoch 24 | loss: 0.22721 | val_0_accuracy: 0.94024 | val_0_balanced_accuracy: 0.8583  |  0:53:41s\n",
      "epoch 25 | loss: 0.23104 | val_0_accuracy: 0.9313  | val_0_balanced_accuracy: 0.83925 |  0:55:46s\n",
      "epoch 26 | loss: 0.22846 | val_0_accuracy: 0.93236 | val_0_balanced_accuracy: 0.86563 |  0:57:51s\n",
      "epoch 27 | loss: 0.22525 | val_0_accuracy: 0.9378  | val_0_balanced_accuracy: 0.8707  |  0:59:56s\n",
      "epoch 28 | loss: 0.22883 | val_0_accuracy: 0.92977 | val_0_balanced_accuracy: 0.84988 |  1:01:59s\n",
      "epoch 29 | loss: 0.22272 | val_0_accuracy: 0.93142 | val_0_balanced_accuracy: 0.83578 |  1:04:04s\n",
      "epoch 30 | loss: 0.22496 | val_0_accuracy: 0.93461 | val_0_balanced_accuracy: 0.85588 |  1:06:08s\n",
      "epoch 31 | loss: 0.21216 | val_0_accuracy: 0.93396 | val_0_balanced_accuracy: 0.84703 |  1:08:13s\n",
      "epoch 32 | loss: 0.21559 | val_0_accuracy: 0.90905 | val_0_balanced_accuracy: 0.8331  |  1:10:18s\n",
      "epoch 33 | loss: 0.21043 | val_0_accuracy: 0.92622 | val_0_balanced_accuracy: 0.85201 |  1:12:21s\n",
      "epoch 34 | loss: 0.20512 | val_0_accuracy: 0.93446 | val_0_balanced_accuracy: 0.85261 |  1:14:23s\n",
      "epoch 35 | loss: 0.20223 | val_0_accuracy: 0.9263  | val_0_balanced_accuracy: 0.83531 |  1:16:27s\n",
      "epoch 36 | loss: 0.20126 | val_0_accuracy: 0.92985 | val_0_balanced_accuracy: 0.84655 |  1:18:30s\n",
      "epoch 37 | loss: 0.19795 | val_0_accuracy: 0.94067 | val_0_balanced_accuracy: 0.86357 |  1:20:31s\n",
      "epoch 38 | loss: 0.20146 | val_0_accuracy: 0.94489 | val_0_balanced_accuracy: 0.88017 |  1:22:34s\n",
      "epoch 39 | loss: 0.19837 | val_0_accuracy: 0.9346  | val_0_balanced_accuracy: 0.85916 |  1:24:37s\n",
      "epoch 40 | loss: 0.19583 | val_0_accuracy: 0.94108 | val_0_balanced_accuracy: 0.87337 |  1:26:39s\n",
      "epoch 41 | loss: 0.1946  | val_0_accuracy: 0.93936 | val_0_balanced_accuracy: 0.84739 |  1:28:46s\n",
      "epoch 42 | loss: 0.19254 | val_0_accuracy: 0.93831 | val_0_balanced_accuracy: 0.86771 |  1:30:53s\n",
      "epoch 43 | loss: 0.19239 | val_0_accuracy: 0.94216 | val_0_balanced_accuracy: 0.8769  |  1:33:00s\n",
      "epoch 44 | loss: 0.19199 | val_0_accuracy: 0.93705 | val_0_balanced_accuracy: 0.87189 |  1:35:09s\n",
      "epoch 45 | loss: 0.18376 | val_0_accuracy: 0.94129 | val_0_balanced_accuracy: 0.85873 |  1:37:16s\n",
      "\n",
      "Early stopping occurred at epoch 45 with best_epoch = 15 and best_val_0_balanced_accuracy = 0.8853\n",
      "Successfully saved model at weighted_cross_entropy_tabnet_model_size_32.zip.zip\n"
     ]
    },
    {
     "name": "stderr",
     "output_type": "stream",
     "text": [
      "/opt/conda/lib/python3.10/site-packages/pytorch_tabnet/callbacks.py:172: UserWarning: Best weights from best epoch are automatically used!\n",
      "  warnings.warn(wrn_msg)\n"
     ]
    },
    {
     "name": "stdout",
     "output_type": "stream",
     "text": [
      "Training TabNet with n_a=n_d=64\n"
     ]
    },
    {
     "name": "stderr",
     "output_type": "stream",
     "text": [
      "/opt/conda/lib/python3.10/site-packages/pytorch_tabnet/abstract_model.py:82: UserWarning: Device used : cuda\n",
      "  warnings.warn(f\"Device used : {self.device}\")\n"
     ]
    },
    {
     "name": "stdout",
     "output_type": "stream",
     "text": [
      "epoch 0  | loss: 0.70958 | val_0_accuracy: 0.9388  | val_0_balanced_accuracy: 0.82482 |  0:02:10s\n",
      "epoch 1  | loss: 0.43103 | val_0_accuracy: 0.87348 | val_0_balanced_accuracy: 0.82168 |  0:04:20s\n",
      "epoch 2  | loss: 0.36759 | val_0_accuracy: 0.88128 | val_0_balanced_accuracy: 0.7823  |  0:06:28s\n",
      "epoch 3  | loss: 0.36361 | val_0_accuracy: 0.87021 | val_0_balanced_accuracy: 0.7729  |  0:08:37s\n",
      "epoch 4  | loss: 0.32883 | val_0_accuracy: 0.92276 | val_0_balanced_accuracy: 0.84593 |  0:10:45s\n",
      "epoch 5  | loss: 0.33734 | val_0_accuracy: 0.73971 | val_0_balanced_accuracy: 0.78306 |  0:12:55s\n",
      "epoch 6  | loss: 0.28488 | val_0_accuracy: 0.92654 | val_0_balanced_accuracy: 0.84516 |  0:15:05s\n",
      "epoch 7  | loss: 0.2687  | val_0_accuracy: 0.89622 | val_0_balanced_accuracy: 0.82333 |  0:17:15s\n",
      "epoch 8  | loss: 0.26594 | val_0_accuracy: 0.86811 | val_0_balanced_accuracy: 0.81069 |  0:19:24s\n",
      "epoch 9  | loss: 0.25939 | val_0_accuracy: 0.91994 | val_0_balanced_accuracy: 0.83386 |  0:21:32s\n",
      "epoch 10 | loss: 0.23125 | val_0_accuracy: 0.87309 | val_0_balanced_accuracy: 0.81282 |  0:23:41s\n",
      "epoch 11 | loss: 0.23647 | val_0_accuracy: 0.90174 | val_0_balanced_accuracy: 0.81808 |  0:25:51s\n",
      "epoch 12 | loss: 0.23925 | val_0_accuracy: 0.92281 | val_0_balanced_accuracy: 0.84251 |  0:28:02s\n",
      "epoch 13 | loss: 0.22206 | val_0_accuracy: 0.91153 | val_0_balanced_accuracy: 0.82683 |  0:30:15s\n",
      "epoch 14 | loss: 0.21541 | val_0_accuracy: 0.76232 | val_0_balanced_accuracy: 0.79096 |  0:32:28s\n",
      "epoch 15 | loss: 0.21957 | val_0_accuracy: 0.92318 | val_0_balanced_accuracy: 0.84423 |  0:34:43s\n",
      "epoch 16 | loss: 0.20761 | val_0_accuracy: 0.92385 | val_0_balanced_accuracy: 0.85226 |  0:36:56s\n",
      "epoch 17 | loss: 0.20495 | val_0_accuracy: 0.91283 | val_0_balanced_accuracy: 0.8254  |  0:39:10s\n",
      "epoch 18 | loss: 0.20313 | val_0_accuracy: 0.93313 | val_0_balanced_accuracy: 0.84975 |  0:41:24s\n",
      "epoch 19 | loss: 0.208   | val_0_accuracy: 0.90633 | val_0_balanced_accuracy: 0.7419  |  0:43:37s\n",
      "epoch 20 | loss: 0.21309 | val_0_accuracy: 0.92612 | val_0_balanced_accuracy: 0.84278 |  0:45:51s\n",
      "epoch 21 | loss: 0.2027  | val_0_accuracy: 0.93658 | val_0_balanced_accuracy: 0.85128 |  0:48:04s\n",
      "epoch 22 | loss: 0.20292 | val_0_accuracy: 0.88324 | val_0_balanced_accuracy: 0.66531 |  0:50:17s\n",
      "epoch 23 | loss: 0.20786 | val_0_accuracy: 0.93571 | val_0_balanced_accuracy: 0.84108 |  0:52:31s\n",
      "epoch 24 | loss: 0.20582 | val_0_accuracy: 0.93727 | val_0_balanced_accuracy: 0.85375 |  0:54:45s\n",
      "epoch 25 | loss: 0.20761 | val_0_accuracy: 0.94081 | val_0_balanced_accuracy: 0.86134 |  0:56:58s\n",
      "epoch 26 | loss: 0.19995 | val_0_accuracy: 0.94304 | val_0_balanced_accuracy: 0.87416 |  0:59:11s\n",
      "epoch 27 | loss: 0.20226 | val_0_accuracy: 0.93947 | val_0_balanced_accuracy: 0.84947 |  1:01:25s\n",
      "epoch 28 | loss: 0.20551 | val_0_accuracy: 0.9435  | val_0_balanced_accuracy: 0.85513 |  1:03:39s\n",
      "epoch 29 | loss: 0.20557 | val_0_accuracy: 0.937   | val_0_balanced_accuracy: 0.84996 |  1:05:53s\n",
      "epoch 30 | loss: 0.20426 | val_0_accuracy: 0.9374  | val_0_balanced_accuracy: 0.86838 |  1:08:08s\n",
      "epoch 31 | loss: 0.20136 | val_0_accuracy: 0.94214 | val_0_balanced_accuracy: 0.85218 |  1:10:21s\n",
      "epoch 32 | loss: 0.19884 | val_0_accuracy: 0.94248 | val_0_balanced_accuracy: 0.85174 |  1:12:35s\n",
      "epoch 33 | loss: 0.20215 | val_0_accuracy: 0.94172 | val_0_balanced_accuracy: 0.85269 |  1:14:51s\n",
      "epoch 34 | loss: 0.19556 | val_0_accuracy: 0.94217 | val_0_balanced_accuracy: 0.85467 |  1:17:07s\n",
      "epoch 35 | loss: 0.1932  | val_0_accuracy: 0.94646 | val_0_balanced_accuracy: 0.88468 |  1:19:21s\n",
      "epoch 36 | loss: 0.19027 | val_0_accuracy: 0.94655 | val_0_balanced_accuracy: 0.88018 |  1:21:36s\n",
      "epoch 37 | loss: 0.19041 | val_0_accuracy: 0.94447 | val_0_balanced_accuracy: 0.87212 |  1:23:50s\n",
      "epoch 38 | loss: 0.19054 | val_0_accuracy: 0.94932 | val_0_balanced_accuracy: 0.89483 |  1:26:05s\n",
      "epoch 39 | loss: 0.18866 | val_0_accuracy: 0.94749 | val_0_balanced_accuracy: 0.88862 |  1:28:20s\n",
      "epoch 40 | loss: 0.19148 | val_0_accuracy: 0.94758 | val_0_balanced_accuracy: 0.88838 |  1:30:37s\n",
      "epoch 41 | loss: 0.18694 | val_0_accuracy: 0.94842 | val_0_balanced_accuracy: 0.8823  |  1:32:52s\n",
      "epoch 42 | loss: 0.19291 | val_0_accuracy: 0.94749 | val_0_balanced_accuracy: 0.87719 |  1:35:07s\n",
      "epoch 43 | loss: 0.188   | val_0_accuracy: 0.948   | val_0_balanced_accuracy: 0.88313 |  1:37:22s\n",
      "epoch 44 | loss: 0.18655 | val_0_accuracy: 0.94963 | val_0_balanced_accuracy: 0.89209 |  1:39:36s\n",
      "epoch 45 | loss: 0.18447 | val_0_accuracy: 0.94899 | val_0_balanced_accuracy: 0.88459 |  1:41:51s\n",
      "epoch 46 | loss: 0.18341 | val_0_accuracy: 0.94907 | val_0_balanced_accuracy: 0.88874 |  1:44:05s\n",
      "epoch 47 | loss: 0.18355 | val_0_accuracy: 0.94998 | val_0_balanced_accuracy: 0.89433 |  1:46:19s\n",
      "epoch 48 | loss: 0.18466 | val_0_accuracy: 0.94866 | val_0_balanced_accuracy: 0.89296 |  1:48:34s\n",
      "epoch 49 | loss: 0.18473 | val_0_accuracy: 0.95015 | val_0_balanced_accuracy: 0.89103 |  1:50:49s\n",
      "epoch 50 | loss: 0.18277 | val_0_accuracy: 0.94787 | val_0_balanced_accuracy: 0.88889 |  1:53:04s\n",
      "epoch 51 | loss: 0.18153 | val_0_accuracy: 0.97277 | val_0_balanced_accuracy: 0.86215 |  1:55:19s\n",
      "epoch 52 | loss: 0.18379 | val_0_accuracy: 0.94855 | val_0_balanced_accuracy: 0.87929 |  1:57:32s\n",
      "epoch 53 | loss: 0.18334 | val_0_accuracy: 0.94736 | val_0_balanced_accuracy: 0.88608 |  1:59:45s\n",
      "epoch 54 | loss: 0.18196 | val_0_accuracy: 0.95053 | val_0_balanced_accuracy: 0.89177 |  2:01:59s\n",
      "epoch 55 | loss: 0.18205 | val_0_accuracy: 0.94837 | val_0_balanced_accuracy: 0.88613 |  2:04:14s\n",
      "epoch 56 | loss: 0.17988 | val_0_accuracy: 0.95027 | val_0_balanced_accuracy: 0.88632 |  2:06:28s\n",
      "epoch 57 | loss: 0.1797  | val_0_accuracy: 0.94768 | val_0_balanced_accuracy: 0.87876 |  2:08:42s\n",
      "epoch 58 | loss: 0.17937 | val_0_accuracy: 0.94909 | val_0_balanced_accuracy: 0.88725 |  2:10:57s\n",
      "epoch 59 | loss: 0.17888 | val_0_accuracy: 0.94704 | val_0_balanced_accuracy: 0.8766  |  2:13:12s\n",
      "epoch 60 | loss: 0.17852 | val_0_accuracy: 0.94594 | val_0_balanced_accuracy: 0.87292 |  2:15:27s\n",
      "epoch 61 | loss: 0.17985 | val_0_accuracy: 0.94842 | val_0_balanced_accuracy: 0.88033 |  2:17:43s\n",
      "epoch 62 | loss: 0.17871 | val_0_accuracy: 0.94834 | val_0_balanced_accuracy: 0.88164 |  2:19:59s\n",
      "epoch 63 | loss: 0.17863 | val_0_accuracy: 0.94736 | val_0_balanced_accuracy: 0.87711 |  2:22:15s\n",
      "epoch 64 | loss: 0.178   | val_0_accuracy: 0.95053 | val_0_balanced_accuracy: 0.88839 |  2:24:31s\n",
      "epoch 65 | loss: 0.17858 | val_0_accuracy: 0.94984 | val_0_balanced_accuracy: 0.8891  |  2:26:47s\n",
      "epoch 66 | loss: 0.17808 | val_0_accuracy: 0.95301 | val_0_balanced_accuracy: 0.89327 |  2:29:03s\n",
      "epoch 67 | loss: 0.17752 | val_0_accuracy: 0.95041 | val_0_balanced_accuracy: 0.88903 |  2:31:19s\n",
      "epoch 68 | loss: 0.17713 | val_0_accuracy: 0.9536  | val_0_balanced_accuracy: 0.89206 |  2:33:35s\n",
      "\n",
      "Early stopping occurred at epoch 68 with best_epoch = 38 and best_val_0_balanced_accuracy = 0.89483\n",
      "Successfully saved model at weighted_cross_entropy_tabnet_model_size_64.zip.zip\n"
     ]
    },
    {
     "name": "stderr",
     "output_type": "stream",
     "text": [
      "/opt/conda/lib/python3.10/site-packages/pytorch_tabnet/callbacks.py:172: UserWarning: Best weights from best epoch are automatically used!\n",
      "  warnings.warn(wrn_msg)\n"
     ]
    },
    {
     "name": "stdout",
     "output_type": "stream",
     "text": [
      "Tuning completed. Models, predictions, and results have been saved.\n"
     ]
    }
   ],
   "source": [
    "sizes = [8, 16, 32, 64]\n",
    "results = []\n",
    "\n",
    "for size in sizes:\n",
    "    print(f\"Training TabNet with n_a=n_d={size}\")\n",
    "\n",
    "    clf = TabNetClassifier(\n",
    "        device_name='cuda',\n",
    "        n_d=size,\n",
    "        n_a=size,\n",
    "        lambda_sparse=0,\n",
    "        mask_type='entmax',\n",
    "        optimizer_params=dict(lr=1e-2, weight_decay=1e-5),\n",
    "        scheduler_fn=torch.optim.lr_scheduler.ReduceLROnPlateau,\n",
    "        scheduler_params={\n",
    "            \"mode\": \"min\",\n",
    "            \"factor\": 0.5,\n",
    "            \"patience\": 10,\n",
    "            \"min_lr\": 1e-5,\n",
    "        },\n",
    "        verbose=1,\n",
    "        seed=42\n",
    "    )\n",
    "\n",
    "    clf.fit(\n",
    "        X_train,\n",
    "        y_train,\n",
    "        eval_set=[(X_valid, y_valid)],\n",
    "        eval_metric=[\"accuracy\", \"balanced_accuracy\"],\n",
    "        max_epochs=100000,\n",
    "        patience=30,\n",
    "        batch_size=1024 * 10,\n",
    "        virtual_batch_size=128 * 10,\n",
    "        loss_fn=weighted_ce_loss,\n",
    "        compute_importance=False,\n",
    "    )\n",
    "\n",
    "    model_path = f\"weighted_cross_entropy_tabnet_model_size_{size}.zip\"\n",
    "    clf.save_model(model_path)\n",
    "\n",
    "    y_pred = clf.predict(X_test)\n",
    "\n",
    "    acc = accuracy_score(y_test, y_pred)\n",
    "    f1 = f1_score(y_test, y_pred, average='weighted')\n",
    "\n",
    "    predictions_path = f\"weighted_cross_entropy_y_pred_size_{size}.csv\"\n",
    "    pd.DataFrame(y_pred, columns=[\"y_pred\"]).to_csv(predictions_path, index=False)\n",
    "\n",
    "    results.append({\n",
    "        \"size\": size,\n",
    "        \"accuracy\": acc,\n",
    "        \"f1_score\": f1,\n",
    "        \"model_path\": model_path,\n",
    "        \"predictions_path\": predictions_path,\n",
    "    })\n",
    "\n",
    "results_df = pd.DataFrame(results)\n",
    "results_df.to_csv(\"weighted_cross_entropy_results_summary.csv\", index=False)\n",
    "\n",
    "print(\"Tuning completed. Models, predictions, and results have been saved.\")"
   ]
  }
 ],
 "metadata": {
  "kaggle": {
   "accelerator": "gpu",
   "dataSources": [
    {
     "datasetId": 6302222,
     "sourceId": 10199111,
     "sourceType": "datasetVersion"
    },
    {
     "datasetId": 6305510,
     "sourceId": 10203472,
     "sourceType": "datasetVersion"
    }
   ],
   "dockerImageVersionId": 30805,
   "isGpuEnabled": true,
   "isInternetEnabled": true,
   "language": "python",
   "sourceType": "notebook"
  },
  "kernelspec": {
   "display_name": "Python 3",
   "language": "python",
   "name": "python3"
  },
  "language_info": {
   "codemirror_mode": {
    "name": "ipython",
    "version": 3
   },
   "file_extension": ".py",
   "mimetype": "text/x-python",
   "name": "python",
   "nbconvert_exporter": "python",
   "pygments_lexer": "ipython3",
   "version": "3.10.14"
  },
  "papermill": {
   "default_parameters": {},
   "duration": 31429.163043,
   "end_time": "2024-12-15T13:27:02.934388",
   "environment_variables": {},
   "exception": null,
   "input_path": "__notebook__.ipynb",
   "output_path": "__notebook__.ipynb",
   "parameters": {},
   "start_time": "2024-12-15T04:43:13.771345",
   "version": "2.6.0"
  }
 },
 "nbformat": 4,
 "nbformat_minor": 5
}
