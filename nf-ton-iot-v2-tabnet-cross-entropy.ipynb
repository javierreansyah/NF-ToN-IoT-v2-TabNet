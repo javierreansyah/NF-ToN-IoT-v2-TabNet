{
 "cells": [
  {
   "cell_type": "code",
   "execution_count": 1,
   "id": "2465a1f0",
   "metadata": {
    "execution": {
     "iopub.execute_input": "2024-12-14T13:58:17.136745Z",
     "iopub.status.busy": "2024-12-14T13:58:17.136464Z",
     "iopub.status.idle": "2024-12-14T13:58:26.524037Z",
     "shell.execute_reply": "2024-12-14T13:58:26.522970Z"
    },
    "papermill": {
     "duration": 9.392851,
     "end_time": "2024-12-14T13:58:26.526214",
     "exception": false,
     "start_time": "2024-12-14T13:58:17.133363",
     "status": "completed"
    },
    "tags": []
   },
   "outputs": [
    {
     "name": "stdout",
     "output_type": "stream",
     "text": [
      "Collecting pytorch-tabnet\r\n",
      "  Downloading pytorch_tabnet-4.1.0-py3-none-any.whl.metadata (15 kB)\r\n",
      "Requirement already satisfied: numpy>=1.17 in /opt/conda/lib/python3.10/site-packages (from pytorch-tabnet) (1.26.4)\r\n",
      "Requirement already satisfied: scikit_learn>0.21 in /opt/conda/lib/python3.10/site-packages (from pytorch-tabnet) (1.2.2)\r\n",
      "Requirement already satisfied: scipy>1.4 in /opt/conda/lib/python3.10/site-packages (from pytorch-tabnet) (1.14.1)\r\n",
      "Requirement already satisfied: torch>=1.3 in /opt/conda/lib/python3.10/site-packages (from pytorch-tabnet) (2.4.0)\r\n",
      "Requirement already satisfied: tqdm>=4.36 in /opt/conda/lib/python3.10/site-packages (from pytorch-tabnet) (4.66.4)\r\n",
      "Requirement already satisfied: joblib>=1.1.1 in /opt/conda/lib/python3.10/site-packages (from scikit_learn>0.21->pytorch-tabnet) (1.4.2)\r\n",
      "Requirement already satisfied: threadpoolctl>=2.0.0 in /opt/conda/lib/python3.10/site-packages (from scikit_learn>0.21->pytorch-tabnet) (3.5.0)\r\n",
      "Requirement already satisfied: filelock in /opt/conda/lib/python3.10/site-packages (from torch>=1.3->pytorch-tabnet) (3.15.1)\r\n",
      "Requirement already satisfied: typing-extensions>=4.8.0 in /opt/conda/lib/python3.10/site-packages (from torch>=1.3->pytorch-tabnet) (4.12.2)\r\n",
      "Requirement already satisfied: sympy in /opt/conda/lib/python3.10/site-packages (from torch>=1.3->pytorch-tabnet) (1.13.3)\r\n",
      "Requirement already satisfied: networkx in /opt/conda/lib/python3.10/site-packages (from torch>=1.3->pytorch-tabnet) (3.3)\r\n",
      "Requirement already satisfied: jinja2 in /opt/conda/lib/python3.10/site-packages (from torch>=1.3->pytorch-tabnet) (3.1.4)\r\n",
      "Requirement already satisfied: fsspec in /opt/conda/lib/python3.10/site-packages (from torch>=1.3->pytorch-tabnet) (2024.6.0)\r\n",
      "Requirement already satisfied: MarkupSafe>=2.0 in /opt/conda/lib/python3.10/site-packages (from jinja2->torch>=1.3->pytorch-tabnet) (2.1.5)\r\n",
      "Requirement already satisfied: mpmath<1.4,>=1.1.0 in /opt/conda/lib/python3.10/site-packages (from sympy->torch>=1.3->pytorch-tabnet) (1.3.0)\r\n",
      "Downloading pytorch_tabnet-4.1.0-py3-none-any.whl (44 kB)\r\n",
      "\u001b[2K   \u001b[90m━━━━━━━━━━━━━━━━━━━━━━━━━━━━━━━━━━━━━━━━\u001b[0m \u001b[32m44.5/44.5 kB\u001b[0m \u001b[31m1.6 MB/s\u001b[0m eta \u001b[36m0:00:00\u001b[0m\r\n",
      "\u001b[?25hInstalling collected packages: pytorch-tabnet\r\n",
      "Successfully installed pytorch-tabnet-4.1.0\r\n"
     ]
    }
   ],
   "source": [
    "!pip install pytorch-tabnet"
   ]
  },
  {
   "cell_type": "code",
   "execution_count": 2,
   "id": "61e40f25",
   "metadata": {
    "execution": {
     "iopub.execute_input": "2024-12-14T13:58:26.532714Z",
     "iopub.status.busy": "2024-12-14T13:58:26.532409Z",
     "iopub.status.idle": "2024-12-14T13:58:31.301346Z",
     "shell.execute_reply": "2024-12-14T13:58:31.300321Z"
    },
    "papermill": {
     "duration": 4.774583,
     "end_time": "2024-12-14T13:58:31.303600",
     "exception": false,
     "start_time": "2024-12-14T13:58:26.529017",
     "status": "completed"
    },
    "tags": []
   },
   "outputs": [],
   "source": [
    "import os\n",
    "import glob\n",
    "import torch\n",
    "from torch.utils.data import Dataset\n",
    "import pandas as pd\n",
    "from pytorch_tabnet.tab_model import TabNetClassifier\n",
    "from sklearn.metrics import accuracy_score, f1_score"
   ]
  },
  {
   "cell_type": "code",
   "execution_count": 3,
   "id": "5aea98c8",
   "metadata": {
    "execution": {
     "iopub.execute_input": "2024-12-14T13:58:31.309950Z",
     "iopub.status.busy": "2024-12-14T13:58:31.309547Z",
     "iopub.status.idle": "2024-12-14T13:58:31.315788Z",
     "shell.execute_reply": "2024-12-14T13:58:31.315131Z"
    },
    "papermill": {
     "duration": 0.011098,
     "end_time": "2024-12-14T13:58:31.317434",
     "exception": false,
     "start_time": "2024-12-14T13:58:31.306336",
     "status": "completed"
    },
    "tags": []
   },
   "outputs": [],
   "source": [
    "class RowwiseDataset(Dataset):\n",
    "    def __init__(self, X_folder, y_attack_folder):\n",
    "        self.X_data = pd.concat(\n",
    "            [pd.read_parquet(f) for f in sorted(glob.glob(os.path.join(X_folder, \"*.parquet\")))]\n",
    "        ).values\n",
    "        self.y_attack_data = pd.concat(\n",
    "            [pd.read_parquet(f)[\"Attack\"] for f in sorted(glob.glob(os.path.join(y_attack_folder, \"*.parquet\")))]\n",
    "        ).values\n",
    "        assert len(self.X_data) == len(self.y_attack_data), \\\n",
    "            \"Mismatched row counts between features and labels.\"\n",
    "        assert self.y_attack_data.ndim == 1, \"Target data should be 1D after column selection.\"\n",
    "\n",
    "    def __len__(self):\n",
    "        return len(self.X_data)\n",
    "\n",
    "    def __getitem__(self, idx):\n",
    "        return (\n",
    "            torch.tensor(self.X_data[idx], dtype=torch.float32),\n",
    "            torch.tensor(self.y_attack_data[idx], dtype=torch.float32),\n",
    "        )"
   ]
  },
  {
   "cell_type": "code",
   "execution_count": 4,
   "id": "5f5eee76",
   "metadata": {
    "execution": {
     "iopub.execute_input": "2024-12-14T13:58:31.322860Z",
     "iopub.status.busy": "2024-12-14T13:58:31.322609Z",
     "iopub.status.idle": "2024-12-14T13:58:31.326424Z",
     "shell.execute_reply": "2024-12-14T13:58:31.325778Z"
    },
    "papermill": {
     "duration": 0.008314,
     "end_time": "2024-12-14T13:58:31.327990",
     "exception": false,
     "start_time": "2024-12-14T13:58:31.319676",
     "status": "completed"
    },
    "tags": []
   },
   "outputs": [],
   "source": [
    "X_train_folder = \"/kaggle/input/nf-ton-iot-v2-cleaned-scaled-split/rmv_outlier_std_801010/X_train\"\n",
    "y_train_attack_folder = \"/kaggle/input/nf-ton-iot-v2-cleaned-scaled-split/rmv_outlier_std_801010/y_train_attack\"\n",
    "\n",
    "X_valid_folder = \"/kaggle/input/nf-ton-iot-v2-cleaned-scaled-split/rmv_outlier_std_801010/X_valid\"\n",
    "y_valid_attack_folder = \"/kaggle/input/nf-ton-iot-v2-cleaned-scaled-split/rmv_outlier_std_801010/y_valid_attack\"\n",
    "\n",
    "X_test_folder = \"/kaggle/input/nf-ton-iot-v2-cleaned-scaled-split/rmv_outlier_std_801010/X_test\"\n",
    "y_test_attack_folder = \"/kaggle/input/nf-ton-iot-v2-cleaned-scaled-split/rmv_outlier_std_801010/y_test_attack\""
   ]
  },
  {
   "cell_type": "code",
   "execution_count": 5,
   "id": "e2d0c91b",
   "metadata": {
    "execution": {
     "iopub.execute_input": "2024-12-14T13:58:31.333337Z",
     "iopub.status.busy": "2024-12-14T13:58:31.333090Z",
     "iopub.status.idle": "2024-12-14T13:58:40.614333Z",
     "shell.execute_reply": "2024-12-14T13:58:40.613632Z"
    },
    "papermill": {
     "duration": 9.286013,
     "end_time": "2024-12-14T13:58:40.616256",
     "exception": false,
     "start_time": "2024-12-14T13:58:31.330243",
     "status": "completed"
    },
    "tags": []
   },
   "outputs": [],
   "source": [
    "train_dataset = RowwiseDataset(X_train_folder, y_train_attack_folder)\n",
    "valid_dataset = RowwiseDataset(X_valid_folder, y_valid_attack_folder)\n",
    "test_dataset = RowwiseDataset(X_test_folder, y_test_attack_folder)\n",
    "\n",
    "X_train, y_train_attack = train_dataset.X_data, train_dataset.y_attack_data\n",
    "X_valid, y_valid_attack = valid_dataset.X_data, valid_dataset.y_attack_data\n",
    "X_test, y_test_attack = test_dataset.X_data, test_dataset.y_attack_data\n",
    "\n",
    "y_train = y_train_attack\n",
    "y_valid = y_valid_attack\n",
    "y_test = y_test_attack"
   ]
  },
  {
   "cell_type": "code",
   "execution_count": 6,
   "id": "ffce267c",
   "metadata": {
    "execution": {
     "iopub.execute_input": "2024-12-14T13:58:40.622055Z",
     "iopub.status.busy": "2024-12-14T13:58:40.621774Z",
     "iopub.status.idle": "2024-12-14T13:58:40.626477Z",
     "shell.execute_reply": "2024-12-14T13:58:40.625635Z"
    },
    "papermill": {
     "duration": 0.00948,
     "end_time": "2024-12-14T13:58:40.628211",
     "exception": false,
     "start_time": "2024-12-14T13:58:40.618731",
     "status": "completed"
    },
    "tags": []
   },
   "outputs": [
    {
     "name": "stdout",
     "output_type": "stream",
     "text": [
      "X_train shape: (10025308, 48), y_train shape: (10025308,)\n",
      "X_valid shape: (1430469, 48), y_valid shape: (1430469,)\n",
      "X_test shape: (1270467, 48), y_test shape: (1270467,)\n"
     ]
    }
   ],
   "source": [
    "print(f\"X_train shape: {X_train.shape}, y_train shape: {y_train.shape}\")\n",
    "print(f\"X_valid shape: {X_valid.shape}, y_valid shape: {y_valid.shape}\")\n",
    "print(f\"X_test shape: {X_test.shape}, y_test shape: {y_test.shape}\")"
   ]
  },
  {
   "cell_type": "code",
   "execution_count": 7,
   "id": "12ca5a78",
   "metadata": {
    "execution": {
     "iopub.execute_input": "2024-12-14T13:58:40.634711Z",
     "iopub.status.busy": "2024-12-14T13:58:40.634463Z",
     "iopub.status.idle": "2024-12-15T01:32:29.225074Z",
     "shell.execute_reply": "2024-12-15T01:32:29.223849Z"
    },
    "papermill": {
     "duration": 41628.59651,
     "end_time": "2024-12-15T01:32:29.226980",
     "exception": false,
     "start_time": "2024-12-14T13:58:40.630470",
     "status": "completed"
    },
    "tags": []
   },
   "outputs": [
    {
     "name": "stdout",
     "output_type": "stream",
     "text": [
      "Training TabNet with n_a=n_d=8\n"
     ]
    },
    {
     "name": "stderr",
     "output_type": "stream",
     "text": [
      "/opt/conda/lib/python3.10/site-packages/pytorch_tabnet/abstract_model.py:82: UserWarning: Device used : cuda\n",
      "  warnings.warn(f\"Device used : {self.device}\")\n"
     ]
    },
    {
     "name": "stdout",
     "output_type": "stream",
     "text": [
      "epoch 0  | loss: 0.18876 | val_0_accuracy: 0.75632 | val_0_balanced_accuracy: 0.54105 |  0:02:02s\n",
      "epoch 1  | loss: 0.08314 | val_0_accuracy: 0.86161 | val_0_balanced_accuracy: 0.58908 |  0:04:03s\n",
      "epoch 2  | loss: 0.07321 | val_0_accuracy: 0.96271 | val_0_balanced_accuracy: 0.61607 |  0:06:04s\n",
      "epoch 3  | loss: 0.07068 | val_0_accuracy: 0.95037 | val_0_balanced_accuracy: 0.5921  |  0:08:05s\n",
      "epoch 4  | loss: 0.06789 | val_0_accuracy: 0.95981 | val_0_balanced_accuracy: 0.60933 |  0:10:06s\n",
      "epoch 5  | loss: 0.06528 | val_0_accuracy: 0.97109 | val_0_balanced_accuracy: 0.63169 |  0:12:07s\n",
      "epoch 6  | loss: 0.06357 | val_0_accuracy: 0.79038 | val_0_balanced_accuracy: 0.59452 |  0:14:08s\n",
      "epoch 7  | loss: 0.06735 | val_0_accuracy: 0.96929 | val_0_balanced_accuracy: 0.62949 |  0:16:09s\n",
      "epoch 8  | loss: 0.06071 | val_0_accuracy: 0.97091 | val_0_balanced_accuracy: 0.60749 |  0:18:10s\n",
      "epoch 9  | loss: 0.0564  | val_0_accuracy: 0.97433 | val_0_balanced_accuracy: 0.61406 |  0:20:11s\n",
      "epoch 10 | loss: 0.06023 | val_0_accuracy: 0.96877 | val_0_balanced_accuracy: 0.62992 |  0:22:12s\n",
      "epoch 11 | loss: 0.05845 | val_0_accuracy: 0.97538 | val_0_balanced_accuracy: 0.6378  |  0:24:13s\n",
      "epoch 12 | loss: 0.05202 | val_0_accuracy: 0.97753 | val_0_balanced_accuracy: 0.63699 |  0:26:14s\n",
      "epoch 13 | loss: 0.05005 | val_0_accuracy: 0.9748  | val_0_balanced_accuracy: 0.6137  |  0:28:15s\n",
      "epoch 14 | loss: 0.04899 | val_0_accuracy: 0.97563 | val_0_balanced_accuracy: 0.62132 |  0:30:16s\n",
      "epoch 15 | loss: 0.04858 | val_0_accuracy: 0.9716  | val_0_balanced_accuracy: 0.6173  |  0:32:16s\n",
      "epoch 16 | loss: 0.0492  | val_0_accuracy: 0.98213 | val_0_balanced_accuracy: 0.67659 |  0:34:17s\n",
      "epoch 17 | loss: 0.04788 | val_0_accuracy: 0.96983 | val_0_balanced_accuracy: 0.66355 |  0:36:19s\n",
      "epoch 18 | loss: 0.04744 | val_0_accuracy: 0.9765  | val_0_balanced_accuracy: 0.68736 |  0:38:20s\n",
      "epoch 19 | loss: 0.04704 | val_0_accuracy: 0.97074 | val_0_balanced_accuracy: 0.67505 |  0:40:21s\n",
      "epoch 20 | loss: 0.04739 | val_0_accuracy: 0.97448 | val_0_balanced_accuracy: 0.66462 |  0:42:22s\n",
      "epoch 21 | loss: 0.04822 | val_0_accuracy: 0.97541 | val_0_balanced_accuracy: 0.66418 |  0:44:24s\n",
      "epoch 22 | loss: 0.04671 | val_0_accuracy: 0.98115 | val_0_balanced_accuracy: 0.70506 |  0:46:25s\n",
      "epoch 23 | loss: 0.04466 | val_0_accuracy: 0.97194 | val_0_balanced_accuracy: 0.68646 |  0:48:26s\n",
      "epoch 24 | loss: 0.04469 | val_0_accuracy: 0.98024 | val_0_balanced_accuracy: 0.71512 |  0:50:28s\n",
      "epoch 25 | loss: 0.04453 | val_0_accuracy: 0.97129 | val_0_balanced_accuracy: 0.69072 |  0:52:28s\n",
      "epoch 26 | loss: 0.04452 | val_0_accuracy: 0.97587 | val_0_balanced_accuracy: 0.6885  |  0:54:30s\n",
      "epoch 27 | loss: 0.04447 | val_0_accuracy: 0.97356 | val_0_balanced_accuracy: 0.69302 |  0:56:31s\n",
      "epoch 28 | loss: 0.04447 | val_0_accuracy: 0.97817 | val_0_balanced_accuracy: 0.69779 |  0:58:33s\n",
      "epoch 29 | loss: 0.04422 | val_0_accuracy: 0.97303 | val_0_balanced_accuracy: 0.68776 |  1:00:34s\n",
      "epoch 30 | loss: 0.04427 | val_0_accuracy: 0.97327 | val_0_balanced_accuracy: 0.69916 |  1:02:34s\n",
      "epoch 31 | loss: 0.04404 | val_0_accuracy: 0.97081 | val_0_balanced_accuracy: 0.67793 |  1:04:35s\n",
      "epoch 32 | loss: 0.04407 | val_0_accuracy: 0.96883 | val_0_balanced_accuracy: 0.66944 |  1:06:37s\n",
      "epoch 33 | loss: 0.04394 | val_0_accuracy: 0.97255 | val_0_balanced_accuracy: 0.68034 |  1:08:38s\n",
      "epoch 34 | loss: 0.04267 | val_0_accuracy: 0.96938 | val_0_balanced_accuracy: 0.67552 |  1:10:38s\n",
      "epoch 35 | loss: 0.04273 | val_0_accuracy: 0.97093 | val_0_balanced_accuracy: 0.68206 |  1:12:39s\n",
      "epoch 36 | loss: 0.04258 | val_0_accuracy: 0.96805 | val_0_balanced_accuracy: 0.67459 |  1:14:40s\n",
      "epoch 37 | loss: 0.04264 | val_0_accuracy: 0.97056 | val_0_balanced_accuracy: 0.68931 |  1:16:42s\n",
      "epoch 38 | loss: 0.04251 | val_0_accuracy: 0.97069 | val_0_balanced_accuracy: 0.68737 |  1:18:44s\n",
      "epoch 39 | loss: 0.04253 | val_0_accuracy: 0.96875 | val_0_balanced_accuracy: 0.68474 |  1:20:45s\n",
      "epoch 40 | loss: 0.04258 | val_0_accuracy: 0.97065 | val_0_balanced_accuracy: 0.69304 |  1:22:45s\n",
      "epoch 41 | loss: 0.04255 | val_0_accuracy: 0.96343 | val_0_balanced_accuracy: 0.6802  |  1:24:45s\n",
      "epoch 42 | loss: 0.0424  | val_0_accuracy: 0.96743 | val_0_balanced_accuracy: 0.66124 |  1:26:45s\n",
      "epoch 43 | loss: 0.04235 | val_0_accuracy: 0.96641 | val_0_balanced_accuracy: 0.68504 |  1:28:46s\n",
      "epoch 44 | loss: 0.04233 | val_0_accuracy: 0.96838 | val_0_balanced_accuracy: 0.68418 |  1:30:47s\n",
      "epoch 45 | loss: 0.04165 | val_0_accuracy: 0.9647  | val_0_balanced_accuracy: 0.68302 |  1:32:47s\n",
      "epoch 46 | loss: 0.04158 | val_0_accuracy: 0.96463 | val_0_balanced_accuracy: 0.67734 |  1:34:48s\n",
      "epoch 47 | loss: 0.04151 | val_0_accuracy: 0.96555 | val_0_balanced_accuracy: 0.68393 |  1:36:48s\n",
      "epoch 48 | loss: 0.04148 | val_0_accuracy: 0.96761 | val_0_balanced_accuracy: 0.69206 |  1:38:48s\n",
      "epoch 49 | loss: 0.04146 | val_0_accuracy: 0.96999 | val_0_balanced_accuracy: 0.69177 |  1:40:49s\n",
      "epoch 50 | loss: 0.04144 | val_0_accuracy: 0.96703 | val_0_balanced_accuracy: 0.67883 |  1:42:50s\n",
      "epoch 51 | loss: 0.04144 | val_0_accuracy: 0.97144 | val_0_balanced_accuracy: 0.70719 |  1:44:51s\n",
      "epoch 52 | loss: 0.04137 | val_0_accuracy: 0.96422 | val_0_balanced_accuracy: 0.67744 |  1:46:51s\n",
      "epoch 53 | loss: 0.04134 | val_0_accuracy: 0.96636 | val_0_balanced_accuracy: 0.68185 |  1:48:51s\n",
      "epoch 54 | loss: 0.0413  | val_0_accuracy: 0.97003 | val_0_balanced_accuracy: 0.67861 |  1:50:51s\n",
      "\n",
      "Early stopping occurred at epoch 54 with best_epoch = 24 and best_val_0_balanced_accuracy = 0.71512\n",
      "Successfully saved model at tabnet_model_size_8.zip.zip\n"
     ]
    },
    {
     "name": "stderr",
     "output_type": "stream",
     "text": [
      "/opt/conda/lib/python3.10/site-packages/pytorch_tabnet/callbacks.py:172: UserWarning: Best weights from best epoch are automatically used!\n",
      "  warnings.warn(wrn_msg)\n"
     ]
    },
    {
     "name": "stdout",
     "output_type": "stream",
     "text": [
      "Training TabNet with n_a=n_d=16\n"
     ]
    },
    {
     "name": "stderr",
     "output_type": "stream",
     "text": [
      "/opt/conda/lib/python3.10/site-packages/pytorch_tabnet/abstract_model.py:82: UserWarning: Device used : cuda\n",
      "  warnings.warn(f\"Device used : {self.device}\")\n"
     ]
    },
    {
     "name": "stdout",
     "output_type": "stream",
     "text": [
      "epoch 0  | loss: 0.15348 | val_0_accuracy: 0.94584 | val_0_balanced_accuracy: 0.62038 |  0:02:00s\n",
      "epoch 1  | loss: 0.07552 | val_0_accuracy: 0.9493  | val_0_balanced_accuracy: 0.63278 |  0:04:01s\n",
      "epoch 2  | loss: 0.06808 | val_0_accuracy: 0.95449 | val_0_balanced_accuracy: 0.61425 |  0:06:01s\n",
      "epoch 3  | loss: 0.06568 | val_0_accuracy: 0.67601 | val_0_balanced_accuracy: 0.56645 |  0:08:02s\n",
      "epoch 4  | loss: 0.06106 | val_0_accuracy: 0.7324  | val_0_balanced_accuracy: 0.57501 |  0:10:03s\n",
      "epoch 5  | loss: 0.05755 | val_0_accuracy: 0.95963 | val_0_balanced_accuracy: 0.64505 |  0:12:05s\n",
      "epoch 6  | loss: 0.05584 | val_0_accuracy: 0.97787 | val_0_balanced_accuracy: 0.67143 |  0:14:05s\n",
      "epoch 7  | loss: 0.05437 | val_0_accuracy: 0.9094  | val_0_balanced_accuracy: 0.65763 |  0:16:06s\n",
      "epoch 8  | loss: 0.05444 | val_0_accuracy: 0.97071 | val_0_balanced_accuracy: 0.66658 |  0:18:06s\n",
      "epoch 9  | loss: 0.05587 | val_0_accuracy: 0.89103 | val_0_balanced_accuracy: 0.65199 |  0:20:08s\n",
      "epoch 10 | loss: 0.05292 | val_0_accuracy: 0.97263 | val_0_balanced_accuracy: 0.65084 |  0:22:08s\n",
      "epoch 11 | loss: 0.05294 | val_0_accuracy: 0.96577 | val_0_balanced_accuracy: 0.67363 |  0:24:08s\n",
      "epoch 12 | loss: 0.05257 | val_0_accuracy: 0.968   | val_0_balanced_accuracy: 0.67561 |  0:26:10s\n",
      "epoch 13 | loss: 0.05198 | val_0_accuracy: 0.92658 | val_0_balanced_accuracy: 0.6496  |  0:28:11s\n",
      "epoch 14 | loss: 0.05057 | val_0_accuracy: 0.97717 | val_0_balanced_accuracy: 0.66076 |  0:30:12s\n",
      "epoch 15 | loss: 0.04613 | val_0_accuracy: 0.97644 | val_0_balanced_accuracy: 0.69289 |  0:32:13s\n",
      "epoch 16 | loss: 0.04631 | val_0_accuracy: 0.96622 | val_0_balanced_accuracy: 0.68476 |  0:34:15s\n",
      "epoch 17 | loss: 0.04629 | val_0_accuracy: 0.97617 | val_0_balanced_accuracy: 0.68269 |  0:36:16s\n",
      "epoch 18 | loss: 0.04559 | val_0_accuracy: 0.97463 | val_0_balanced_accuracy: 0.6899  |  0:38:16s\n",
      "epoch 19 | loss: 0.04537 | val_0_accuracy: 0.97934 | val_0_balanced_accuracy: 0.69786 |  0:40:18s\n",
      "epoch 20 | loss: 0.04506 | val_0_accuracy: 0.97384 | val_0_balanced_accuracy: 0.70566 |  0:42:20s\n",
      "epoch 21 | loss: 0.04521 | val_0_accuracy: 0.98087 | val_0_balanced_accuracy: 0.68438 |  0:44:21s\n",
      "epoch 22 | loss: 0.04478 | val_0_accuracy: 0.98116 | val_0_balanced_accuracy: 0.70261 |  0:46:22s\n",
      "epoch 23 | loss: 0.04433 | val_0_accuracy: 0.97562 | val_0_balanced_accuracy: 0.68031 |  0:48:24s\n",
      "epoch 24 | loss: 0.04547 | val_0_accuracy: 0.9803  | val_0_balanced_accuracy: 0.69173 |  0:50:25s\n",
      "epoch 25 | loss: 0.04481 | val_0_accuracy: 0.98099 | val_0_balanced_accuracy: 0.71579 |  0:52:27s\n",
      "epoch 26 | loss: 0.04201 | val_0_accuracy: 0.98133 | val_0_balanced_accuracy: 0.72154 |  0:54:29s\n",
      "epoch 27 | loss: 0.04205 | val_0_accuracy: 0.97631 | val_0_balanced_accuracy: 0.71188 |  0:56:30s\n",
      "epoch 28 | loss: 0.04226 | val_0_accuracy: 0.98224 | val_0_balanced_accuracy: 0.71981 |  0:58:32s\n",
      "epoch 29 | loss: 0.04179 | val_0_accuracy: 0.97625 | val_0_balanced_accuracy: 0.71603 |  1:00:33s\n",
      "epoch 30 | loss: 0.04187 | val_0_accuracy: 0.9782  | val_0_balanced_accuracy: 0.71175 |  1:02:34s\n",
      "epoch 31 | loss: 0.04181 | val_0_accuracy: 0.98123 | val_0_balanced_accuracy: 0.7271  |  1:04:35s\n",
      "epoch 32 | loss: 0.04173 | val_0_accuracy: 0.98242 | val_0_balanced_accuracy: 0.73478 |  1:06:37s\n",
      "epoch 33 | loss: 0.04181 | val_0_accuracy: 0.98225 | val_0_balanced_accuracy: 0.73395 |  1:08:38s\n",
      "epoch 34 | loss: 0.04137 | val_0_accuracy: 0.97766 | val_0_balanced_accuracy: 0.71378 |  1:10:39s\n",
      "epoch 35 | loss: 0.04144 | val_0_accuracy: 0.97791 | val_0_balanced_accuracy: 0.70983 |  1:12:41s\n",
      "epoch 36 | loss: 0.04156 | val_0_accuracy: 0.97672 | val_0_balanced_accuracy: 0.76949 |  1:14:41s\n",
      "epoch 37 | loss: 0.04016 | val_0_accuracy: 0.98058 | val_0_balanced_accuracy: 0.80942 |  1:16:42s\n",
      "epoch 38 | loss: 0.04019 | val_0_accuracy: 0.98079 | val_0_balanced_accuracy: 0.80874 |  1:18:43s\n",
      "epoch 39 | loss: 0.04003 | val_0_accuracy: 0.98322 | val_0_balanced_accuracy: 0.77038 |  1:20:45s\n",
      "epoch 40 | loss: 0.04003 | val_0_accuracy: 0.9823  | val_0_balanced_accuracy: 0.81369 |  1:22:45s\n",
      "epoch 41 | loss: 0.04004 | val_0_accuracy: 0.97878 | val_0_balanced_accuracy: 0.81412 |  1:24:46s\n",
      "epoch 42 | loss: 0.03996 | val_0_accuracy: 0.97821 | val_0_balanced_accuracy: 0.80839 |  1:26:48s\n",
      "epoch 43 | loss: 0.03976 | val_0_accuracy: 0.98185 | val_0_balanced_accuracy: 0.81477 |  1:28:49s\n",
      "epoch 44 | loss: 0.03974 | val_0_accuracy: 0.97655 | val_0_balanced_accuracy: 0.8063  |  1:30:51s\n",
      "epoch 45 | loss: 0.03972 | val_0_accuracy: 0.97819 | val_0_balanced_accuracy: 0.8145  |  1:32:52s\n",
      "epoch 46 | loss: 0.03958 | val_0_accuracy: 0.97618 | val_0_balanced_accuracy: 0.80845 |  1:34:52s\n",
      "epoch 47 | loss: 0.0396  | val_0_accuracy: 0.97892 | val_0_balanced_accuracy: 0.7887  |  1:36:59s\n",
      "epoch 48 | loss: 0.03874 | val_0_accuracy: 0.97697 | val_0_balanced_accuracy: 0.80526 |  1:39:10s\n",
      "epoch 49 | loss: 0.03868 | val_0_accuracy: 0.97887 | val_0_balanced_accuracy: 0.80901 |  1:41:15s\n",
      "epoch 50 | loss: 0.03862 | val_0_accuracy: 0.98106 | val_0_balanced_accuracy: 0.81232 |  1:43:16s\n",
      "epoch 51 | loss: 0.03862 | val_0_accuracy: 0.97671 | val_0_balanced_accuracy: 0.80893 |  1:45:17s\n",
      "epoch 52 | loss: 0.03847 | val_0_accuracy: 0.97689 | val_0_balanced_accuracy: 0.81136 |  1:47:18s\n",
      "epoch 53 | loss: 0.0385  | val_0_accuracy: 0.97634 | val_0_balanced_accuracy: 0.80994 |  1:49:20s\n",
      "epoch 54 | loss: 0.03843 | val_0_accuracy: 0.97755 | val_0_balanced_accuracy: 0.81391 |  1:51:21s\n",
      "epoch 55 | loss: 0.03839 | val_0_accuracy: 0.97799 | val_0_balanced_accuracy: 0.81183 |  1:53:22s\n",
      "epoch 56 | loss: 0.03834 | val_0_accuracy: 0.98238 | val_0_balanced_accuracy: 0.81371 |  1:55:23s\n",
      "epoch 57 | loss: 0.03834 | val_0_accuracy: 0.98392 | val_0_balanced_accuracy: 0.82815 |  1:57:25s\n",
      "epoch 58 | loss: 0.03838 | val_0_accuracy: 0.97703 | val_0_balanced_accuracy: 0.80711 |  1:59:26s\n",
      "epoch 59 | loss: 0.03783 | val_0_accuracy: 0.97678 | val_0_balanced_accuracy: 0.81041 |  2:01:27s\n",
      "epoch 60 | loss: 0.03777 | val_0_accuracy: 0.9771  | val_0_balanced_accuracy: 0.80984 |  2:03:28s\n",
      "epoch 61 | loss: 0.03775 | val_0_accuracy: 0.97927 | val_0_balanced_accuracy: 0.81369 |  2:05:30s\n",
      "epoch 62 | loss: 0.03773 | val_0_accuracy: 0.97711 | val_0_balanced_accuracy: 0.80998 |  2:07:32s\n",
      "epoch 63 | loss: 0.0377  | val_0_accuracy: 0.98145 | val_0_balanced_accuracy: 0.81757 |  2:09:33s\n",
      "epoch 64 | loss: 0.03767 | val_0_accuracy: 0.97596 | val_0_balanced_accuracy: 0.81046 |  2:11:34s\n",
      "epoch 65 | loss: 0.03765 | val_0_accuracy: 0.97716 | val_0_balanced_accuracy: 0.81017 |  2:13:35s\n",
      "epoch 66 | loss: 0.03762 | val_0_accuracy: 0.9795  | val_0_balanced_accuracy: 0.81306 |  2:15:37s\n",
      "epoch 67 | loss: 0.03767 | val_0_accuracy: 0.97793 | val_0_balanced_accuracy: 0.81594 |  2:17:39s\n",
      "epoch 68 | loss: 0.03758 | val_0_accuracy: 0.98169 | val_0_balanced_accuracy: 0.81634 |  2:19:40s\n",
      "epoch 69 | loss: 0.03759 | val_0_accuracy: 0.98207 | val_0_balanced_accuracy: 0.81762 |  2:21:41s\n",
      "epoch 70 | loss: 0.03732 | val_0_accuracy: 0.98397 | val_0_balanced_accuracy: 0.84286 |  2:23:42s\n",
      "epoch 71 | loss: 0.03725 | val_0_accuracy: 0.98604 | val_0_balanced_accuracy: 0.83989 |  2:25:44s\n",
      "epoch 72 | loss: 0.03722 | val_0_accuracy: 0.97877 | val_0_balanced_accuracy: 0.81373 |  2:27:45s\n",
      "epoch 73 | loss: 0.03725 | val_0_accuracy: 0.97997 | val_0_balanced_accuracy: 0.81575 |  2:29:47s\n",
      "epoch 74 | loss: 0.03722 | val_0_accuracy: 0.97433 | val_0_balanced_accuracy: 0.81018 |  2:31:49s\n",
      "epoch 75 | loss: 0.03717 | val_0_accuracy: 0.97657 | val_0_balanced_accuracy: 0.81275 |  2:33:51s\n",
      "epoch 76 | loss: 0.0372  | val_0_accuracy: 0.97663 | val_0_balanced_accuracy: 0.81049 |  2:35:52s\n",
      "epoch 77 | loss: 0.03718 | val_0_accuracy: 0.97732 | val_0_balanced_accuracy: 0.81294 |  2:37:55s\n",
      "epoch 78 | loss: 0.03717 | val_0_accuracy: 0.97675 | val_0_balanced_accuracy: 0.80624 |  2:39:57s\n",
      "epoch 79 | loss: 0.03718 | val_0_accuracy: 0.97475 | val_0_balanced_accuracy: 0.81111 |  2:41:59s\n",
      "epoch 80 | loss: 0.03714 | val_0_accuracy: 0.97608 | val_0_balanced_accuracy: 0.81119 |  2:44:01s\n",
      "epoch 81 | loss: 0.03699 | val_0_accuracy: 0.97768 | val_0_balanced_accuracy: 0.81759 |  2:46:04s\n",
      "epoch 82 | loss: 0.03696 | val_0_accuracy: 0.97772 | val_0_balanced_accuracy: 0.81387 |  2:48:05s\n",
      "epoch 83 | loss: 0.03696 | val_0_accuracy: 0.9799  | val_0_balanced_accuracy: 0.81295 |  2:50:06s\n",
      "epoch 84 | loss: 0.03698 | val_0_accuracy: 0.97691 | val_0_balanced_accuracy: 0.81128 |  2:52:10s\n",
      "epoch 85 | loss: 0.03696 | val_0_accuracy: 0.9765  | val_0_balanced_accuracy: 0.81066 |  2:54:11s\n",
      "epoch 86 | loss: 0.03697 | val_0_accuracy: 0.97624 | val_0_balanced_accuracy: 0.81118 |  2:56:13s\n",
      "epoch 87 | loss: 0.03697 | val_0_accuracy: 0.98291 | val_0_balanced_accuracy: 0.81967 |  2:58:15s\n",
      "epoch 88 | loss: 0.03697 | val_0_accuracy: 0.97717 | val_0_balanced_accuracy: 0.81212 |  3:00:17s\n",
      "epoch 89 | loss: 0.03693 | val_0_accuracy: 0.97724 | val_0_balanced_accuracy: 0.80783 |  3:02:19s\n",
      "epoch 90 | loss: 0.0369  | val_0_accuracy: 0.97678 | val_0_balanced_accuracy: 0.81131 |  3:04:21s\n",
      "epoch 91 | loss: 0.03692 | val_0_accuracy: 0.97768 | val_0_balanced_accuracy: 0.81384 |  3:06:23s\n",
      "epoch 92 | loss: 0.03684 | val_0_accuracy: 0.97676 | val_0_balanced_accuracy: 0.8081  |  3:08:27s\n",
      "epoch 93 | loss: 0.03684 | val_0_accuracy: 0.97691 | val_0_balanced_accuracy: 0.81117 |  3:10:28s\n",
      "epoch 94 | loss: 0.03687 | val_0_accuracy: 0.98121 | val_0_balanced_accuracy: 0.81965 |  3:12:29s\n",
      "epoch 95 | loss: 0.03683 | val_0_accuracy: 0.98137 | val_0_balanced_accuracy: 0.81572 |  3:14:32s\n",
      "epoch 96 | loss: 0.0368  | val_0_accuracy: 0.98158 | val_0_balanced_accuracy: 0.8165  |  3:16:33s\n",
      "epoch 97 | loss: 0.03679 | val_0_accuracy: 0.98431 | val_0_balanced_accuracy: 0.83162 |  3:18:34s\n",
      "epoch 98 | loss: 0.03682 | val_0_accuracy: 0.97684 | val_0_balanced_accuracy: 0.81044 |  3:20:35s\n",
      "epoch 99 | loss: 0.03681 | val_0_accuracy: 0.97519 | val_0_balanced_accuracy: 0.80782 |  3:22:37s\n",
      "epoch 100| loss: 0.03681 | val_0_accuracy: 0.97707 | val_0_balanced_accuracy: 0.81162 |  3:24:38s\n",
      "\n",
      "Early stopping occurred at epoch 100 with best_epoch = 70 and best_val_0_balanced_accuracy = 0.84286\n",
      "Successfully saved model at tabnet_model_size_16.zip.zip\n"
     ]
    },
    {
     "name": "stderr",
     "output_type": "stream",
     "text": [
      "/opt/conda/lib/python3.10/site-packages/pytorch_tabnet/callbacks.py:172: UserWarning: Best weights from best epoch are automatically used!\n",
      "  warnings.warn(wrn_msg)\n"
     ]
    },
    {
     "name": "stdout",
     "output_type": "stream",
     "text": [
      "Training TabNet with n_a=n_d=32\n"
     ]
    },
    {
     "name": "stderr",
     "output_type": "stream",
     "text": [
      "/opt/conda/lib/python3.10/site-packages/pytorch_tabnet/abstract_model.py:82: UserWarning: Device used : cuda\n",
      "  warnings.warn(f\"Device used : {self.device}\")\n"
     ]
    },
    {
     "name": "stdout",
     "output_type": "stream",
     "text": [
      "epoch 0  | loss: 0.11355 | val_0_accuracy: 0.96313 | val_0_balanced_accuracy: 0.62626 |  0:02:01s\n",
      "epoch 1  | loss: 0.06874 | val_0_accuracy: 0.96672 | val_0_balanced_accuracy: 0.64849 |  0:04:03s\n",
      "epoch 2  | loss: 0.06362 | val_0_accuracy: 0.97211 | val_0_balanced_accuracy: 0.64406 |  0:06:04s\n",
      "epoch 3  | loss: 0.06117 | val_0_accuracy: 0.97098 | val_0_balanced_accuracy: 0.62123 |  0:08:05s\n",
      "epoch 4  | loss: 0.05967 | val_0_accuracy: 0.97448 | val_0_balanced_accuracy: 0.63943 |  0:10:07s\n",
      "epoch 5  | loss: 0.05564 | val_0_accuracy: 0.97138 | val_0_balanced_accuracy: 0.61959 |  0:12:08s\n",
      "epoch 6  | loss: 0.05515 | val_0_accuracy: 0.97583 | val_0_balanced_accuracy: 0.63173 |  0:14:10s\n",
      "epoch 7  | loss: 0.05365 | val_0_accuracy: 0.95815 | val_0_balanced_accuracy: 0.64671 |  0:16:13s\n",
      "epoch 8  | loss: 0.05093 | val_0_accuracy: 0.96892 | val_0_balanced_accuracy: 0.69159 |  0:18:16s\n",
      "epoch 9  | loss: 0.0498  | val_0_accuracy: 0.96282 | val_0_balanced_accuracy: 0.68533 |  0:20:18s\n",
      "epoch 10 | loss: 0.05155 | val_0_accuracy: 0.97624 | val_0_balanced_accuracy: 0.69359 |  0:22:20s\n",
      "epoch 11 | loss: 0.04877 | val_0_accuracy: 0.94036 | val_0_balanced_accuracy: 0.67908 |  0:24:21s\n",
      "epoch 12 | loss: 0.0492  | val_0_accuracy: 0.97663 | val_0_balanced_accuracy: 0.66527 |  0:26:23s\n",
      "epoch 13 | loss: 0.04825 | val_0_accuracy: 0.93094 | val_0_balanced_accuracy: 0.61042 |  0:28:24s\n",
      "epoch 14 | loss: 0.04752 | val_0_accuracy: 0.98025 | val_0_balanced_accuracy: 0.70816 |  0:30:25s\n",
      "epoch 15 | loss: 0.04943 | val_0_accuracy: 0.98141 | val_0_balanced_accuracy: 0.70255 |  0:32:26s\n",
      "epoch 16 | loss: 0.04914 | val_0_accuracy: 0.97526 | val_0_balanced_accuracy: 0.66281 |  0:34:28s\n",
      "epoch 17 | loss: 0.04683 | val_0_accuracy: 0.97298 | val_0_balanced_accuracy: 0.6714  |  0:36:29s\n",
      "epoch 18 | loss: 0.04653 | val_0_accuracy: 0.97466 | val_0_balanced_accuracy: 0.71004 |  0:38:32s\n",
      "epoch 19 | loss: 0.04804 | val_0_accuracy: 0.97714 | val_0_balanced_accuracy: 0.65994 |  0:40:38s\n",
      "epoch 20 | loss: 0.0471  | val_0_accuracy: 0.9739  | val_0_balanced_accuracy: 0.698   |  0:42:44s\n",
      "epoch 21 | loss: 0.04593 | val_0_accuracy: 0.97727 | val_0_balanced_accuracy: 0.67949 |  0:44:48s\n",
      "epoch 22 | loss: 0.04603 | val_0_accuracy: 0.97764 | val_0_balanced_accuracy: 0.74613 |  0:46:50s\n",
      "epoch 23 | loss: 0.04731 | val_0_accuracy: 0.97365 | val_0_balanced_accuracy: 0.67251 |  0:48:51s\n",
      "epoch 24 | loss: 0.04593 | val_0_accuracy: 0.97469 | val_0_balanced_accuracy: 0.71324 |  0:50:52s\n",
      "epoch 25 | loss: 0.04331 | val_0_accuracy: 0.97665 | val_0_balanced_accuracy: 0.79075 |  0:52:54s\n",
      "epoch 26 | loss: 0.04322 | val_0_accuracy: 0.94999 | val_0_balanced_accuracy: 0.68851 |  0:54:59s\n",
      "epoch 27 | loss: 0.04388 | val_0_accuracy: 0.97738 | val_0_balanced_accuracy: 0.80052 |  0:57:04s\n",
      "epoch 28 | loss: 0.04314 | val_0_accuracy: 0.97955 | val_0_balanced_accuracy: 0.77193 |  0:59:08s\n",
      "epoch 29 | loss: 0.04341 | val_0_accuracy: 0.97714 | val_0_balanced_accuracy: 0.69001 |  1:01:11s\n",
      "epoch 30 | loss: 0.04283 | val_0_accuracy: 0.97803 | val_0_balanced_accuracy: 0.80269 |  1:03:13s\n",
      "epoch 31 | loss: 0.0432  | val_0_accuracy: 0.97633 | val_0_balanced_accuracy: 0.79519 |  1:05:14s\n",
      "epoch 32 | loss: 0.04287 | val_0_accuracy: 0.97899 | val_0_balanced_accuracy: 0.73432 |  1:07:16s\n",
      "epoch 33 | loss: 0.04274 | val_0_accuracy: 0.97683 | val_0_balanced_accuracy: 0.78727 |  1:09:20s\n",
      "epoch 34 | loss: 0.04272 | val_0_accuracy: 0.97734 | val_0_balanced_accuracy: 0.78341 |  1:11:24s\n",
      "epoch 35 | loss: 0.04296 | val_0_accuracy: 0.9767  | val_0_balanced_accuracy: 0.77465 |  1:13:28s\n",
      "epoch 36 | loss: 0.04105 | val_0_accuracy: 0.97702 | val_0_balanced_accuracy: 0.79194 |  1:15:32s\n",
      "epoch 37 | loss: 0.04114 | val_0_accuracy: 0.97618 | val_0_balanced_accuracy: 0.77724 |  1:17:35s\n",
      "epoch 38 | loss: 0.04109 | val_0_accuracy: 0.97748 | val_0_balanced_accuracy: 0.79926 |  1:19:37s\n",
      "epoch 39 | loss: 0.04098 | val_0_accuracy: 0.97652 | val_0_balanced_accuracy: 0.79182 |  1:21:40s\n",
      "epoch 40 | loss: 0.041   | val_0_accuracy: 0.9794  | val_0_balanced_accuracy: 0.82107 |  1:23:45s\n",
      "epoch 41 | loss: 0.04094 | val_0_accuracy: 0.97729 | val_0_balanced_accuracy: 0.78469 |  1:25:48s\n",
      "epoch 42 | loss: 0.04092 | val_0_accuracy: 0.97509 | val_0_balanced_accuracy: 0.79134 |  1:27:50s\n",
      "epoch 43 | loss: 0.04085 | val_0_accuracy: 0.97665 | val_0_balanced_accuracy: 0.79568 |  1:29:54s\n",
      "epoch 44 | loss: 0.04097 | val_0_accuracy: 0.97703 | val_0_balanced_accuracy: 0.7947  |  1:31:57s\n",
      "epoch 45 | loss: 0.04089 | val_0_accuracy: 0.97624 | val_0_balanced_accuracy: 0.77756 |  1:33:58s\n",
      "epoch 46 | loss: 0.04084 | val_0_accuracy: 0.98023 | val_0_balanced_accuracy: 0.82134 |  1:36:02s\n",
      "epoch 47 | loss: 0.03981 | val_0_accuracy: 0.97636 | val_0_balanced_accuracy: 0.78495 |  1:38:04s\n",
      "epoch 48 | loss: 0.03982 | val_0_accuracy: 0.97856 | val_0_balanced_accuracy: 0.81602 |  1:40:07s\n",
      "epoch 49 | loss: 0.03987 | val_0_accuracy: 0.97662 | val_0_balanced_accuracy: 0.79715 |  1:42:10s\n",
      "epoch 50 | loss: 0.03968 | val_0_accuracy: 0.97639 | val_0_balanced_accuracy: 0.79364 |  1:44:14s\n",
      "epoch 51 | loss: 0.03969 | val_0_accuracy: 0.97676 | val_0_balanced_accuracy: 0.7866  |  1:46:15s\n",
      "epoch 52 | loss: 0.03971 | val_0_accuracy: 0.97424 | val_0_balanced_accuracy: 0.7858  |  1:48:18s\n",
      "epoch 53 | loss: 0.03966 | val_0_accuracy: 0.97645 | val_0_balanced_accuracy: 0.78206 |  1:50:20s\n",
      "epoch 54 | loss: 0.03961 | val_0_accuracy: 0.97523 | val_0_balanced_accuracy: 0.79133 |  1:52:24s\n",
      "epoch 55 | loss: 0.03949 | val_0_accuracy: 0.976   | val_0_balanced_accuracy: 0.77807 |  1:54:26s\n",
      "epoch 56 | loss: 0.03947 | val_0_accuracy: 0.97755 | val_0_balanced_accuracy: 0.78906 |  1:56:29s\n",
      "epoch 57 | loss: 0.03951 | val_0_accuracy: 0.98208 | val_0_balanced_accuracy: 0.82463 |  1:58:31s\n",
      "epoch 58 | loss: 0.03885 | val_0_accuracy: 0.97855 | val_0_balanced_accuracy: 0.80691 |  2:00:34s\n",
      "epoch 59 | loss: 0.0388  | val_0_accuracy: 0.97656 | val_0_balanced_accuracy: 0.782   |  2:02:37s\n",
      "epoch 60 | loss: 0.03874 | val_0_accuracy: 0.97794 | val_0_balanced_accuracy: 0.79359 |  2:04:41s\n",
      "epoch 61 | loss: 0.03872 | val_0_accuracy: 0.97633 | val_0_balanced_accuracy: 0.78664 |  2:06:43s\n",
      "epoch 62 | loss: 0.03865 | val_0_accuracy: 0.97572 | val_0_balanced_accuracy: 0.79694 |  2:08:44s\n",
      "epoch 63 | loss: 0.03867 | val_0_accuracy: 0.97656 | val_0_balanced_accuracy: 0.78236 |  2:10:46s\n",
      "epoch 64 | loss: 0.03861 | val_0_accuracy: 0.97708 | val_0_balanced_accuracy: 0.78611 |  2:12:48s\n",
      "epoch 65 | loss: 0.03858 | val_0_accuracy: 0.97683 | val_0_balanced_accuracy: 0.78934 |  2:14:51s\n",
      "epoch 66 | loss: 0.03855 | val_0_accuracy: 0.97734 | val_0_balanced_accuracy: 0.7994  |  2:16:53s\n",
      "epoch 67 | loss: 0.03858 | val_0_accuracy: 0.9773  | val_0_balanced_accuracy: 0.78914 |  2:18:53s\n",
      "epoch 68 | loss: 0.03853 | val_0_accuracy: 0.97658 | val_0_balanced_accuracy: 0.78319 |  2:20:55s\n",
      "epoch 69 | loss: 0.03808 | val_0_accuracy: 0.97431 | val_0_balanced_accuracy: 0.77782 |  2:22:58s\n",
      "epoch 70 | loss: 0.03804 | val_0_accuracy: 0.97664 | val_0_balanced_accuracy: 0.78203 |  2:25:00s\n",
      "epoch 71 | loss: 0.03802 | val_0_accuracy: 0.97711 | val_0_balanced_accuracy: 0.78494 |  2:27:01s\n",
      "epoch 72 | loss: 0.03801 | val_0_accuracy: 0.97902 | val_0_balanced_accuracy: 0.7995  |  2:29:03s\n",
      "epoch 73 | loss: 0.038   | val_0_accuracy: 0.97639 | val_0_balanced_accuracy: 0.78219 |  2:31:05s\n",
      "epoch 74 | loss: 0.03796 | val_0_accuracy: 0.97808 | val_0_balanced_accuracy: 0.79236 |  2:33:07s\n",
      "epoch 75 | loss: 0.03792 | val_0_accuracy: 0.97696 | val_0_balanced_accuracy: 0.79067 |  2:35:09s\n",
      "epoch 76 | loss: 0.03792 | val_0_accuracy: 0.9763  | val_0_balanced_accuracy: 0.78076 |  2:37:12s\n",
      "epoch 77 | loss: 0.03792 | val_0_accuracy: 0.97631 | val_0_balanced_accuracy: 0.78162 |  2:39:14s\n",
      "epoch 78 | loss: 0.03791 | val_0_accuracy: 0.9771  | val_0_balanced_accuracy: 0.79867 |  2:41:16s\n",
      "epoch 79 | loss: 0.03788 | val_0_accuracy: 0.97727 | val_0_balanced_accuracy: 0.7858  |  2:43:18s\n",
      "epoch 80 | loss: 0.03764 | val_0_accuracy: 0.97608 | val_0_balanced_accuracy: 0.78059 |  2:45:20s\n",
      "epoch 81 | loss: 0.03759 | val_0_accuracy: 0.97705 | val_0_balanced_accuracy: 0.78547 |  2:47:21s\n",
      "epoch 82 | loss: 0.03758 | val_0_accuracy: 0.97607 | val_0_balanced_accuracy: 0.78106 |  2:49:23s\n",
      "epoch 83 | loss: 0.0376  | val_0_accuracy: 0.97733 | val_0_balanced_accuracy: 0.79    |  2:51:25s\n",
      "epoch 84 | loss: 0.03758 | val_0_accuracy: 0.97744 | val_0_balanced_accuracy: 0.78744 |  2:53:26s\n",
      "epoch 85 | loss: 0.03753 | val_0_accuracy: 0.97661 | val_0_balanced_accuracy: 0.78316 |  2:55:28s\n",
      "epoch 86 | loss: 0.03757 | val_0_accuracy: 0.97788 | val_0_balanced_accuracy: 0.79123 |  2:57:29s\n",
      "epoch 87 | loss: 0.03751 | val_0_accuracy: 0.97621 | val_0_balanced_accuracy: 0.78289 |  2:59:31s\n",
      "\n",
      "Early stopping occurred at epoch 87 with best_epoch = 57 and best_val_0_balanced_accuracy = 0.82463\n",
      "Successfully saved model at tabnet_model_size_32.zip.zip\n"
     ]
    },
    {
     "name": "stderr",
     "output_type": "stream",
     "text": [
      "/opt/conda/lib/python3.10/site-packages/pytorch_tabnet/callbacks.py:172: UserWarning: Best weights from best epoch are automatically used!\n",
      "  warnings.warn(wrn_msg)\n"
     ]
    },
    {
     "name": "stdout",
     "output_type": "stream",
     "text": [
      "Training TabNet with n_a=n_d=64\n"
     ]
    },
    {
     "name": "stderr",
     "output_type": "stream",
     "text": [
      "/opt/conda/lib/python3.10/site-packages/pytorch_tabnet/abstract_model.py:82: UserWarning: Device used : cuda\n",
      "  warnings.warn(f\"Device used : {self.device}\")\n"
     ]
    },
    {
     "name": "stdout",
     "output_type": "stream",
     "text": [
      "epoch 0  | loss: 0.10831 | val_0_accuracy: 0.96354 | val_0_balanced_accuracy: 0.67562 |  0:02:06s\n",
      "epoch 1  | loss: 0.06786 | val_0_accuracy: 0.97489 | val_0_balanced_accuracy: 0.66512 |  0:04:13s\n",
      "epoch 2  | loss: 0.06337 | val_0_accuracy: 0.97166 | val_0_balanced_accuracy: 0.68615 |  0:06:19s\n",
      "epoch 3  | loss: 0.05893 | val_0_accuracy: 0.97379 | val_0_balanced_accuracy: 0.65417 |  0:08:26s\n",
      "epoch 4  | loss: 0.05757 | val_0_accuracy: 0.97563 | val_0_balanced_accuracy: 0.66964 |  0:10:33s\n",
      "epoch 5  | loss: 0.05674 | val_0_accuracy: 0.97594 | val_0_balanced_accuracy: 0.70471 |  0:12:40s\n",
      "epoch 6  | loss: 0.05168 | val_0_accuracy: 0.97525 | val_0_balanced_accuracy: 0.68574 |  0:14:47s\n",
      "epoch 7  | loss: 0.05035 | val_0_accuracy: 0.97013 | val_0_balanced_accuracy: 0.6327  |  0:16:53s\n",
      "epoch 8  | loss: 0.05003 | val_0_accuracy: 0.97727 | val_0_balanced_accuracy: 0.70361 |  0:19:01s\n",
      "epoch 9  | loss: 0.04908 | val_0_accuracy: 0.97925 | val_0_balanced_accuracy: 0.70726 |  0:21:08s\n",
      "epoch 10 | loss: 0.04798 | val_0_accuracy: 0.97429 | val_0_balanced_accuracy: 0.71543 |  0:23:14s\n",
      "epoch 11 | loss: 0.0535  | val_0_accuracy: 0.94762 | val_0_balanced_accuracy: 0.69209 |  0:25:21s\n",
      "epoch 12 | loss: 0.04847 | val_0_accuracy: 0.97928 | val_0_balanced_accuracy: 0.71326 |  0:27:27s\n",
      "epoch 13 | loss: 0.04829 | val_0_accuracy: 0.98003 | val_0_balanced_accuracy: 0.71817 |  0:29:34s\n",
      "epoch 14 | loss: 0.04814 | val_0_accuracy: 0.98025 | val_0_balanced_accuracy: 0.71682 |  0:31:41s\n",
      "epoch 15 | loss: 0.04923 | val_0_accuracy: 0.97936 | val_0_balanced_accuracy: 0.71405 |  0:33:47s\n",
      "epoch 16 | loss: 0.04733 | val_0_accuracy: 0.97239 | val_0_balanced_accuracy: 0.72467 |  0:35:54s\n",
      "epoch 17 | loss: 0.04678 | val_0_accuracy: 0.9479  | val_0_balanced_accuracy: 0.70773 |  0:38:00s\n",
      "epoch 18 | loss: 0.04803 | val_0_accuracy: 0.98131 | val_0_balanced_accuracy: 0.72182 |  0:40:07s\n",
      "epoch 19 | loss: 0.04442 | val_0_accuracy: 0.95194 | val_0_balanced_accuracy: 0.72525 |  0:42:14s\n",
      "epoch 20 | loss: 0.0444  | val_0_accuracy: 0.9813  | val_0_balanced_accuracy: 0.71834 |  0:44:21s\n",
      "epoch 21 | loss: 0.04451 | val_0_accuracy: 0.95116 | val_0_balanced_accuracy: 0.71426 |  0:46:28s\n",
      "epoch 22 | loss: 0.04422 | val_0_accuracy: 0.98223 | val_0_balanced_accuracy: 0.75658 |  0:48:35s\n",
      "epoch 23 | loss: 0.04368 | val_0_accuracy: 0.98124 | val_0_balanced_accuracy: 0.74919 |  0:50:43s\n",
      "epoch 24 | loss: 0.04363 | val_0_accuracy: 0.98075 | val_0_balanced_accuracy: 0.75308 |  0:52:50s\n",
      "epoch 25 | loss: 0.04368 | val_0_accuracy: 0.98202 | val_0_balanced_accuracy: 0.80805 |  0:54:56s\n",
      "epoch 26 | loss: 0.04353 | val_0_accuracy: 0.98047 | val_0_balanced_accuracy: 0.80364 |  0:57:02s\n",
      "epoch 27 | loss: 0.04456 | val_0_accuracy: 0.98075 | val_0_balanced_accuracy: 0.75573 |  0:59:08s\n",
      "epoch 28 | loss: 0.04424 | val_0_accuracy: 0.98215 | val_0_balanced_accuracy: 0.80708 |  1:01:16s\n",
      "epoch 29 | loss: 0.04347 | val_0_accuracy: 0.98205 | val_0_balanced_accuracy: 0.83201 |  1:03:23s\n",
      "epoch 30 | loss: 0.04176 | val_0_accuracy: 0.98107 | val_0_balanced_accuracy: 0.78835 |  1:05:32s\n",
      "epoch 31 | loss: 0.04191 | val_0_accuracy: 0.9809  | val_0_balanced_accuracy: 0.75004 |  1:07:39s\n",
      "epoch 32 | loss: 0.04192 | val_0_accuracy: 0.98208 | val_0_balanced_accuracy: 0.82984 |  1:09:47s\n",
      "epoch 33 | loss: 0.0417  | val_0_accuracy: 0.98254 | val_0_balanced_accuracy: 0.82047 |  1:11:54s\n",
      "epoch 34 | loss: 0.04164 | val_0_accuracy: 0.98176 | val_0_balanced_accuracy: 0.76648 |  1:14:01s\n",
      "epoch 35 | loss: 0.04187 | val_0_accuracy: 0.98166 | val_0_balanced_accuracy: 0.81129 |  1:16:08s\n",
      "epoch 36 | loss: 0.04187 | val_0_accuracy: 0.98198 | val_0_balanced_accuracy: 0.80518 |  1:18:15s\n",
      "epoch 37 | loss: 0.04164 | val_0_accuracy: 0.98187 | val_0_balanced_accuracy: 0.81703 |  1:20:22s\n",
      "epoch 38 | loss: 0.0416  | val_0_accuracy: 0.98226 | val_0_balanced_accuracy: 0.818   |  1:22:30s\n",
      "epoch 39 | loss: 0.0415  | val_0_accuracy: 0.98157 | val_0_balanced_accuracy: 0.80851 |  1:24:37s\n",
      "epoch 40 | loss: 0.04154 | val_0_accuracy: 0.98131 | val_0_balanced_accuracy: 0.80827 |  1:26:44s\n",
      "epoch 41 | loss: 0.04054 | val_0_accuracy: 0.98305 | val_0_balanced_accuracy: 0.83475 |  1:28:52s\n",
      "epoch 42 | loss: 0.04043 | val_0_accuracy: 0.98133 | val_0_balanced_accuracy: 0.838   |  1:30:59s\n",
      "epoch 43 | loss: 0.04051 | val_0_accuracy: 0.98222 | val_0_balanced_accuracy: 0.84006 |  1:33:06s\n",
      "epoch 44 | loss: 0.04043 | val_0_accuracy: 0.98122 | val_0_balanced_accuracy: 0.81004 |  1:35:14s\n",
      "epoch 45 | loss: 0.0404  | val_0_accuracy: 0.98191 | val_0_balanced_accuracy: 0.83013 |  1:37:21s\n",
      "epoch 46 | loss: 0.0404  | val_0_accuracy: 0.9821  | val_0_balanced_accuracy: 0.8383  |  1:39:29s\n",
      "epoch 47 | loss: 0.04031 | val_0_accuracy: 0.98268 | val_0_balanced_accuracy: 0.8212  |  1:41:36s\n",
      "epoch 48 | loss: 0.04026 | val_0_accuracy: 0.98165 | val_0_balanced_accuracy: 0.81184 |  1:43:43s\n",
      "epoch 49 | loss: 0.04023 | val_0_accuracy: 0.9835  | val_0_balanced_accuracy: 0.83187 |  1:45:50s\n",
      "epoch 50 | loss: 0.04033 | val_0_accuracy: 0.98175 | val_0_balanced_accuracy: 0.84132 |  1:47:57s\n",
      "epoch 51 | loss: 0.04012 | val_0_accuracy: 0.98344 | val_0_balanced_accuracy: 0.84085 |  1:50:05s\n",
      "epoch 52 | loss: 0.03954 | val_0_accuracy: 0.98287 | val_0_balanced_accuracy: 0.81627 |  1:52:12s\n",
      "epoch 53 | loss: 0.03949 | val_0_accuracy: 0.98168 | val_0_balanced_accuracy: 0.83389 |  1:54:18s\n",
      "epoch 54 | loss: 0.03942 | val_0_accuracy: 0.98314 | val_0_balanced_accuracy: 0.83173 |  1:56:26s\n",
      "epoch 55 | loss: 0.03942 | val_0_accuracy: 0.98133 | val_0_balanced_accuracy: 0.81035 |  1:58:32s\n",
      "epoch 56 | loss: 0.03938 | val_0_accuracy: 0.98324 | val_0_balanced_accuracy: 0.83683 |  2:00:40s\n",
      "epoch 57 | loss: 0.03929 | val_0_accuracy: 0.98172 | val_0_balanced_accuracy: 0.83781 |  2:02:47s\n",
      "epoch 58 | loss: 0.03926 | val_0_accuracy: 0.98101 | val_0_balanced_accuracy: 0.81371 |  2:04:54s\n",
      "epoch 59 | loss: 0.03922 | val_0_accuracy: 0.9817  | val_0_balanced_accuracy: 0.80693 |  2:07:01s\n",
      "epoch 60 | loss: 0.03913 | val_0_accuracy: 0.98213 | val_0_balanced_accuracy: 0.83088 |  2:09:09s\n",
      "epoch 61 | loss: 0.03913 | val_0_accuracy: 0.98208 | val_0_balanced_accuracy: 0.8257  |  2:11:16s\n",
      "epoch 62 | loss: 0.03908 | val_0_accuracy: 0.98293 | val_0_balanced_accuracy: 0.84347 |  2:13:23s\n",
      "epoch 63 | loss: 0.03867 | val_0_accuracy: 0.98204 | val_0_balanced_accuracy: 0.82959 |  2:15:31s\n",
      "epoch 64 | loss: 0.03864 | val_0_accuracy: 0.98303 | val_0_balanced_accuracy: 0.8235  |  2:17:37s\n",
      "epoch 65 | loss: 0.03862 | val_0_accuracy: 0.98224 | val_0_balanced_accuracy: 0.82092 |  2:19:45s\n",
      "epoch 66 | loss: 0.0386  | val_0_accuracy: 0.98326 | val_0_balanced_accuracy: 0.82394 |  2:21:52s\n",
      "epoch 67 | loss: 0.03855 | val_0_accuracy: 0.9825  | val_0_balanced_accuracy: 0.81744 |  2:23:59s\n",
      "epoch 68 | loss: 0.03851 | val_0_accuracy: 0.98387 | val_0_balanced_accuracy: 0.83956 |  2:26:06s\n",
      "epoch 69 | loss: 0.03847 | val_0_accuracy: 0.98207 | val_0_balanced_accuracy: 0.82621 |  2:28:13s\n",
      "epoch 70 | loss: 0.03845 | val_0_accuracy: 0.98253 | val_0_balanced_accuracy: 0.82411 |  2:30:21s\n",
      "epoch 71 | loss: 0.03837 | val_0_accuracy: 0.98246 | val_0_balanced_accuracy: 0.81641 |  2:32:27s\n",
      "epoch 72 | loss: 0.03835 | val_0_accuracy: 0.98273 | val_0_balanced_accuracy: 0.82287 |  2:34:34s\n",
      "epoch 73 | loss: 0.03834 | val_0_accuracy: 0.98326 | val_0_balanced_accuracy: 0.81707 |  2:36:41s\n",
      "epoch 74 | loss: 0.03799 | val_0_accuracy: 0.98248 | val_0_balanced_accuracy: 0.82646 |  2:38:48s\n",
      "epoch 75 | loss: 0.03798 | val_0_accuracy: 0.98292 | val_0_balanced_accuracy: 0.81564 |  2:40:55s\n",
      "epoch 76 | loss: 0.03794 | val_0_accuracy: 0.98295 | val_0_balanced_accuracy: 0.81914 |  2:43:02s\n",
      "epoch 77 | loss: 0.03793 | val_0_accuracy: 0.98267 | val_0_balanced_accuracy: 0.82697 |  2:45:09s\n",
      "epoch 78 | loss: 0.03789 | val_0_accuracy: 0.98261 | val_0_balanced_accuracy: 0.81847 |  2:47:17s\n",
      "epoch 79 | loss: 0.03784 | val_0_accuracy: 0.98431 | val_0_balanced_accuracy: 0.84121 |  2:49:24s\n",
      "epoch 80 | loss: 0.0378  | val_0_accuracy: 0.98362 | val_0_balanced_accuracy: 0.82812 |  2:51:31s\n",
      "epoch 81 | loss: 0.03776 | val_0_accuracy: 0.98263 | val_0_balanced_accuracy: 0.81944 |  2:53:38s\n",
      "epoch 82 | loss: 0.03773 | val_0_accuracy: 0.98274 | val_0_balanced_accuracy: 0.81823 |  2:55:45s\n",
      "epoch 83 | loss: 0.03771 | val_0_accuracy: 0.9824  | val_0_balanced_accuracy: 0.82947 |  2:57:53s\n",
      "epoch 84 | loss: 0.03767 | val_0_accuracy: 0.98284 | val_0_balanced_accuracy: 0.81668 |  3:00:00s\n",
      "epoch 85 | loss: 0.0375  | val_0_accuracy: 0.98315 | val_0_balanced_accuracy: 0.81974 |  3:02:08s\n",
      "epoch 86 | loss: 0.03748 | val_0_accuracy: 0.98248 | val_0_balanced_accuracy: 0.81496 |  3:04:15s\n",
      "epoch 87 | loss: 0.0375  | val_0_accuracy: 0.98336 | val_0_balanced_accuracy: 0.82545 |  3:06:23s\n",
      "epoch 88 | loss: 0.03743 | val_0_accuracy: 0.98328 | val_0_balanced_accuracy: 0.81596 |  3:08:30s\n",
      "epoch 89 | loss: 0.03742 | val_0_accuracy: 0.98258 | val_0_balanced_accuracy: 0.81523 |  3:10:37s\n",
      "epoch 90 | loss: 0.03739 | val_0_accuracy: 0.98299 | val_0_balanced_accuracy: 0.81766 |  3:12:45s\n",
      "epoch 91 | loss: 0.0374  | val_0_accuracy: 0.98279 | val_0_balanced_accuracy: 0.81441 |  3:14:52s\n",
      "epoch 92 | loss: 0.03735 | val_0_accuracy: 0.98279 | val_0_balanced_accuracy: 0.81441 |  3:17:00s\n",
      "\n",
      "Early stopping occurred at epoch 92 with best_epoch = 62 and best_val_0_balanced_accuracy = 0.84347\n",
      "Successfully saved model at tabnet_model_size_64.zip.zip\n"
     ]
    },
    {
     "name": "stderr",
     "output_type": "stream",
     "text": [
      "/opt/conda/lib/python3.10/site-packages/pytorch_tabnet/callbacks.py:172: UserWarning: Best weights from best epoch are automatically used!\n",
      "  warnings.warn(wrn_msg)\n"
     ]
    },
    {
     "name": "stdout",
     "output_type": "stream",
     "text": [
      "Tuning completed. Models, predictions, and results have been saved.\n"
     ]
    }
   ],
   "source": [
    "sizes = [8, 16, 32, 64]\n",
    "results = []\n",
    "\n",
    "for size in sizes:\n",
    "    print(f\"Training TabNet with n_a=n_d={size}\")\n",
    "\n",
    "    clf = TabNetClassifier(\n",
    "        device_name='cuda',\n",
    "        n_d=size,\n",
    "        n_a=size,\n",
    "        lambda_sparse=0,\n",
    "        mask_type='entmax',\n",
    "        optimizer_params=dict(lr=1e-2, weight_decay=1e-5),\n",
    "        scheduler_fn=torch.optim.lr_scheduler.ReduceLROnPlateau,\n",
    "        scheduler_params={\n",
    "            \"mode\": \"min\",\n",
    "            \"factor\": 0.5,\n",
    "            \"patience\": 10,\n",
    "            \"min_lr\": 1e-5,\n",
    "        },\n",
    "        verbose=1,\n",
    "        seed=42\n",
    "    )\n",
    "\n",
    "    clf.fit(\n",
    "        X_train,\n",
    "        y_train,\n",
    "        eval_set=[(X_valid, y_valid)],\n",
    "        eval_metric=[\"accuracy\", \"balanced_accuracy\"],\n",
    "        max_epochs=100000,\n",
    "        patience=30,\n",
    "        batch_size=1024 * 10,\n",
    "        virtual_batch_size=128 * 10,\n",
    "        compute_importance=False,\n",
    "    )\n",
    "\n",
    "    model_path = f\"tabnet_model_size_{size}.zip\"\n",
    "    clf.save_model(model_path)\n",
    "\n",
    "    y_pred = clf.predict(X_test)\n",
    "\n",
    "    acc = accuracy_score(y_test, y_pred)\n",
    "    f1 = f1_score(y_test, y_pred, average='weighted')\n",
    "\n",
    "    predictions_path = f\"cross_entropy_y_pred_size_{size}.csv\"\n",
    "    pd.DataFrame(y_pred, columns=[\"y_pred\"]).to_csv(predictions_path, index=False)\n",
    "\n",
    "    results.append({\n",
    "        \"size\": size,\n",
    "        \"accuracy\": acc,\n",
    "        \"f1_score\": f1,\n",
    "        \"model_path\": model_path,\n",
    "        \"predictions_path\": predictions_path,\n",
    "    })\n",
    "\n",
    "results_df = pd.DataFrame(results)\n",
    "results_df.to_csv(\"cross_entropy_results_summary.csv\", index=False)\n",
    "\n",
    "print(\"Tuning completed. Models, predictions, and results have been saved.\")"
   ]
  }
 ],
 "metadata": {
  "kaggle": {
   "accelerator": "gpu",
   "dataSources": [
    {
     "datasetId": 6302222,
     "sourceId": 10199111,
     "sourceType": "datasetVersion"
    }
   ],
   "dockerImageVersionId": 30804,
   "isGpuEnabled": true,
   "isInternetEnabled": true,
   "language": "python",
   "sourceType": "notebook"
  },
  "kernelspec": {
   "display_name": "Python 3",
   "language": "python",
   "name": "python3"
  },
  "language_info": {
   "codemirror_mode": {
    "name": "ipython",
    "version": 3
   },
   "file_extension": ".py",
   "mimetype": "text/x-python",
   "name": "python",
   "nbconvert_exporter": "python",
   "pygments_lexer": "ipython3",
   "version": "3.10.14"
  },
  "papermill": {
   "default_parameters": {},
   "duration": 41655.944793,
   "end_time": "2024-12-15T01:32:30.665532",
   "environment_variables": {},
   "exception": null,
   "input_path": "__notebook__.ipynb",
   "output_path": "__notebook__.ipynb",
   "parameters": {},
   "start_time": "2024-12-14T13:58:14.720739",
   "version": "2.6.0"
  }
 },
 "nbformat": 4,
 "nbformat_minor": 5
}
